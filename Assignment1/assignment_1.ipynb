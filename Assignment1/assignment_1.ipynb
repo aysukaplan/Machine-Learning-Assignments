{
 "cells": [
  {
   "cell_type": "markdown",
   "id": "7a7c4859",
   "metadata": {},
   "source": [
    "# BBM409 Assignment_1\n"
   ]
  },
  {
   "cell_type": "markdown",
   "id": "c73e06ed",
   "metadata": {},
   "source": [
    "\n",
    "## PART 1: Classification of News Articles"
   ]
  },
  {
   "cell_type": "code",
   "execution_count": 2,
   "id": "99d7f2a6",
   "metadata": {},
   "outputs": [
    {
     "name": "stderr",
     "output_type": "stream",
     "text": [
      "c:\\ProgramData\\Anaconda3\\lib\\site-packages\\numpy\\_distributor_init.py:30: UserWarning: loaded more than 1 DLL from .libs:\n",
      "c:\\ProgramData\\Anaconda3\\lib\\site-packages\\numpy\\.libs\\libopenblas.EL2C6PLE4ZYW3ECEVIV3OXXGRN2NRFM2.gfortran-win_amd64.dll\n",
      "c:\\ProgramData\\Anaconda3\\lib\\site-packages\\numpy\\.libs\\libopenblas.FB5AE2TYXYH2IJRDKGDGQ3XBKLKTF43H.gfortran-win_amd64.dll\n",
      "  warnings.warn(\"loaded more than 1 DLL from .libs:\"\n",
      "c:\\ProgramData\\Anaconda3\\lib\\site-packages\\scipy\\__init__.py:146: UserWarning: A NumPy version >=1.16.5 and <1.23.0 is required for this version of SciPy (detected version 1.23.0\n",
      "  warnings.warn(f\"A NumPy version >={np_minversion} and <{np_maxversion}\"\n"
     ]
    }
   ],
   "source": [
    "# import necessary libraries\n",
    "import sys\n",
    "import pandas as pd\n",
    "import numpy as np\n",
    "import re\n",
    "from sklearn.feature_extraction.text import CountVectorizer\n",
    "from sklearn.feature_extraction.text import TfidfVectorizer\n",
    "from sklearn.feature_selection import chi2\n",
    "from collections import Counter"
   ]
  },
  {
   "cell_type": "markdown",
   "id": "838d5ed7",
   "metadata": {},
   "source": [
    "### Implementing k Nearest Neighbor Algorithms"
   ]
  },
  {
   "cell_type": "code",
   "execution_count": 2,
   "id": "5b7b3376",
   "metadata": {},
   "outputs": [],
   "source": [
    "# Euclid distance function for calculating distance between two points to be used for KNN algorithms\n",
    "def euclid_distance(x1, x2):\n",
    "    distance = np.sqrt(np.sum((x1-x2)**2))\n",
    "    return distance"
   ]
  },
  {
   "cell_type": "code",
   "execution_count": 3,
   "id": "ae7080d1",
   "metadata": {},
   "outputs": [],
   "source": [
    "# My own KNN algorithm class which implemented from scratch\n",
    "class KNN:\n",
    "    def __init__(self, k=3):\n",
    "        self.k = k\n",
    "\n",
    "    def fit(self, X, y):\n",
    "        self.X_train = X\n",
    "        self.y_train = y\n",
    "\n",
    "    def predict(self, X):\n",
    "        predictions = np.array([])\n",
    "        for x in X:\n",
    "            predictions = np.append(predictions, self._predict(x))\n",
    "        return predictions\n",
    "\n",
    "    def _predict(self, x):\n",
    "\n",
    "        distances = np.array([])\n",
    "\n",
    "        for x_train in self.X_train :\n",
    "            distance = euclid_distance(x, x_train)\n",
    "            distances = np.append(distances, distance)\n",
    "\n",
    "        k_indices = np.array([])\n",
    "        k_indices = np.argsort(distances)[:self.k]\n",
    "\n",
    "        k_nearest_labels = np.array([])\n",
    "\n",
    "        for i in k_indices:\n",
    "            k_nearest_labels = np.append(k_nearest_labels, self.y_train.iloc[i])\n",
    "\n",
    "        most_common = Counter(k_nearest_labels).most_common()\n",
    "\n",
    "        return most_common[0][0]"
   ]
  },
  {
   "cell_type": "code",
   "execution_count": 4,
   "id": "171a6c5e",
   "metadata": {},
   "outputs": [],
   "source": [
    "# My own weighted KNN algorithm class which implemented from scratch\n",
    "class WeightedKNN:\n",
    "    def __init__(self, k=3):\n",
    "        self.k = k\n",
    "\n",
    "    def fit(self, X, y):\n",
    "        self.X_train = X\n",
    "        self.y_train = y\n",
    "\n",
    "    def predict(self, X):\n",
    "        predictions = np.array([])\n",
    "        for x in X:\n",
    "            predictions = np.append(predictions, self._predict(x))\n",
    "        return predictions\n",
    "\n",
    "    def _predict(self, x):\n",
    "\n",
    "        distances = np.array([])\n",
    "\n",
    "        for x_train in self.X_train:\n",
    "            distance = euclid_distance(x, x_train)\n",
    "            distances = np.append(distances, distance)\n",
    "\n",
    "        k_indices = np.argsort(distances)[:self.k]\n",
    "\n",
    "        weighted_labels = {}\n",
    "\n",
    "        for i in k_indices:\n",
    "            label = self.y_train.iloc[i]\n",
    "            distance = distances[i]\n",
    "\n",
    "            # Using inverse distance as weight\n",
    "            weight = 1 / (distance + 1e-5)  # Adding a small value to avoid division by zero\n",
    "\n",
    "            if label not in weighted_labels:\n",
    "                weighted_labels[label] = 0\n",
    "            weighted_labels[label] += weight\n",
    "\n",
    "        # Find the label with the highest weighted sum\n",
    "        most_weighted_label = max(weighted_labels, key=weighted_labels.get)\n",
    "\n",
    "        return most_weighted_label"
   ]
  },
  {
   "cell_type": "markdown",
   "id": "5b1fcae8",
   "metadata": {},
   "source": [
    "### Functions to be used later on this experiment"
   ]
  },
  {
   "cell_type": "code",
   "execution_count": 5,
   "id": "ac87e3c3",
   "metadata": {},
   "outputs": [],
   "source": [
    "# A function to calculate confusion matrix parameters True Positive, True Negative, False Positive, False Negative\n",
    "def calculate_confusion_matrix(y_true, y_pred, num_classes):\n",
    "    # Initialize counts for TP, TN, FP, FN for each class\n",
    "    tp = [0] * num_classes\n",
    "    tn = [0] * num_classes\n",
    "    fp = [0] * num_classes\n",
    "    fn = [0] * num_classes\n",
    "\n",
    "    # Iterate over each instance\n",
    "    for i in range(len(y_true)):\n",
    "        true_label = y_true[i]\n",
    "        pred_label = y_pred[i]\n",
    "\n",
    "        # Update confusion matrix counts based on true and predicted labels\n",
    "        if true_label == pred_label:\n",
    "            tp[true_label] += 1\n",
    "            for j in range(num_classes):\n",
    "                if j != true_label:\n",
    "                    tn[j] += 1\n",
    "        else:\n",
    "            fp[pred_label] += 1\n",
    "            fn[true_label] += 1\n",
    "            for j in range(num_classes):\n",
    "                if j != true_label and j != pred_label:\n",
    "                    tn[j] += 1\n",
    "\n",
    "    return tp, tn, fp, fn"
   ]
  },
  {
   "cell_type": "code",
   "execution_count": 6,
   "id": "d27ac264",
   "metadata": {},
   "outputs": [],
   "source": [
    "# Changing values inside the tables to numbers which is assigned for each category. (Assigned values will be seen later)\n",
    "def convert_to_ids(table):\n",
    "    temp_table = np.empty_like(table)\n",
    "    for j in range(len(table)):\n",
    "        temp = table[j]\n",
    "        temp_table[j] = category_to_id.get(temp)\n",
    "    return temp_table"
   ]
  },
  {
   "cell_type": "code",
   "execution_count": 7,
   "id": "84fd9dca",
   "metadata": {},
   "outputs": [],
   "source": [
    "# This function calculates and returns accuracy, precision and recall scores according to method to be used.\n",
    "# While calling this function we use parameters if it is weighted knn or not, if it is stop words deleted or not\n",
    "# and to decide which method will be used like bigram, unigram or tf-idf.\n",
    "# This function also takes the neighbour count parameter which will be 1 to 9 for this assignment.\n",
    "def calculate_scores(train, test, n, b_or_u, stop_removed, wtd):\n",
    "    X_train_1 = train.clean_text\n",
    "    y_train_1 = train.Category\n",
    "    X_test_1 = test.clean_text\n",
    "    y_test_1 = test.Category\n",
    "\n",
    "    vec = CountVectorizer(ngram_range=(1, 1))\n",
    "\n",
    "    if stop_removed:\n",
    "        if b_or_u == \"unigram\":\n",
    "            vec = CountVectorizer(ngram_range=(1, 1), stop_words=\"english\", max_features=100)\n",
    "        elif b_or_u == \"bigram\":\n",
    "            vec = CountVectorizer(ngram_range=(2, 2), stop_words=\"english\", max_features=100)\n",
    "        elif b_or_u == \"tf-idf\":\n",
    "            vec = TfidfVectorizer(ngram_range=(1, 2), max_features=1000, use_idf=True, stop_words=\"english\")\n",
    "        else:\n",
    "            print(\"There is an error in your code\")\n",
    "            sys.exit()\n",
    "    else:\n",
    "        if b_or_u == \"unigram\":\n",
    "            vec = CountVectorizer(ngram_range=(1, 1), max_features=100)\n",
    "        elif b_or_u == \"bigram\":\n",
    "            vec = CountVectorizer(ngram_range=(2, 2), max_features=100)\n",
    "        elif b_or_u == \"tf-idf\":\n",
    "            vec = TfidfVectorizer(ngram_range=(1, 2),max_features=1000, use_idf=True)\n",
    "        else:\n",
    "            print(\"There is an error in your code\")\n",
    "            sys.exit()\n",
    "\n",
    "    vec.fit(X_train_1)\n",
    "\n",
    "    X_transformed = vec.transform(X_train_1)\n",
    "    X_test_transformed = vec.transform(X_test_1)\n",
    "\n",
    "    X_transformed = X_transformed.toarray()\n",
    "    X_test_transformed = X_test_transformed.toarray()\n",
    "\n",
    "    clf = KNN(k=n)\n",
    "    if wtd == \"yes\":  # If weighted knn will be used or not. If it will be used \"wtd\" will come as \"yes\" from parameter\n",
    "        clf = WeightedKNN(k=n)\n",
    "    clf.fit(X_transformed, y_train_1)\n",
    "    pred = clf.predict(X_test_transformed)\n",
    "\n",
    "    y_test_1 = y_test_1.to_numpy()\n",
    "\n",
    "    pred = convert_to_ids(pred)\n",
    "    pred = pred.astype(int)\n",
    "    y_test = convert_to_ids(y_test_1)\n",
    "\n",
    "    num_classes = 5\n",
    "    tp, tn, fp, fn = calculate_confusion_matrix(y_test, pred, num_classes)\n",
    "\n",
    "    # totals\n",
    "    tp_total = 0\n",
    "    tn_total = 0\n",
    "    fp_total = 0\n",
    "    fn_total = 0\n",
    "\n",
    "    # Calculate values for each category\n",
    "    for i in range(num_classes):\n",
    "        tp_total += tp[i]\n",
    "        tn_total += tn[i]\n",
    "        fp_total += fp[i]\n",
    "        fn_total += fn[i]\n",
    "\n",
    "    # averages\n",
    "    tp_avg = tp_total / 5\n",
    "    tn_avg = tn_total / 5\n",
    "    fp_avg = fp_total / 5\n",
    "    fn_avg = fn_total / 5\n",
    "\n",
    "    # Calculate accuracy, precision, recall scores\n",
    "    accuracy_total = (tp_avg + tn_avg) / (tp_avg + tn_avg + fn_avg + fp_avg)\n",
    "    precision = tp_avg / (tp_avg + fp_avg)\n",
    "    recall = tp_avg / (tp_avg + fn_avg)\n",
    "\n",
    "    return accuracy_total, precision, recall"
   ]
  },
  {
   "cell_type": "markdown",
   "id": "6357cd1a",
   "metadata": {},
   "source": [
    "### Read, Visualize, Preprocess the dataset"
   ]
  },
  {
   "cell_type": "code",
   "execution_count": 8,
   "id": "1f997aa1",
   "metadata": {},
   "outputs": [
    {
     "data": {
      "text/plain": [
       "{'divide': 'warn', 'over': 'warn', 'under': 'ignore', 'invalid': 'warn'}"
      ]
     },
     "execution_count": 8,
     "metadata": {},
     "output_type": "execute_result"
    }
   ],
   "source": [
    "# read dataset\n",
    "news_text = pd.read_csv('English Dataset.csv')\n",
    "np.seterr(divide='ignore')"
   ]
  },
  {
   "cell_type": "code",
   "execution_count": 9,
   "id": "5227b2a7",
   "metadata": {},
   "outputs": [
    {
     "name": "stdout",
     "output_type": "stream",
     "text": [
      "{'business': 0, 'tech': 1, 'politics': 2, 'sport': 3, 'entertainment': 4}\n",
      "AxesSubplot(0.125,0.11;0.775x0.77)\n"
     ]
    },
    {
     "data": {
      "image/png": "[encoded data removed]",
      "text/plain": [
       "<Figure size 640x480 with 1 Axes>"
      ]
     },
     "metadata": {},
     "output_type": "display_data"
    }
   ],
   "source": [
    "# Visualize on data and preprocessing\n",
    "news_text['category_id'] = news_text['Category'].factorize()[0]\n",
    "category_id_df = news_text[['Category', 'category_id']].drop_duplicates().sort_values('category_id')\n",
    "category_to_id = dict(category_id_df.values)\n",
    "id_to_category = dict(category_id_df[['category_id', 'Category']].values)\n",
    "print(category_to_id)\n",
    "print(news_text.groupby('Category').category_id.count().plot.bar(ylim=0))\n",
    "news_text.drop_duplicates(subset=['Category', 'Text'], inplace=True)"
   ]
  },
  {
   "cell_type": "code",
   "execution_count": 10,
   "id": "04495ac7",
   "metadata": {},
   "outputs": [],
   "source": [
    "# Function to clean the text from whitespaces etc.\n",
    "def clean_text(text):\n",
    "    # remove everything except alphabets\n",
    "    text = re.sub(\"[^a-zA-Z]\", \" \", text)\n",
    "    # remove whitespaces\n",
    "    text = ' '.join(text.split())\n",
    "    text = text.lower()\n",
    "\n",
    "    return text\n",
    "\n",
    "\n",
    "news_text['clean_text'] = news_text['Text'].apply(clean_text).str.replace('bn bn ', '')\n",
    "news_text['clean_text'] = news_text['Text'].apply(clean_text).str.replace(' bn ', '')"
   ]
  },
  {
   "cell_type": "markdown",
   "id": "18289e34",
   "metadata": {},
   "source": [
    "###  Analyse the words"
   ]
  },
  {
   "cell_type": "code",
   "execution_count": 11,
   "id": "910ca9d6",
   "metadata": {},
   "outputs": [
    {
     "name": "stdout",
     "output_type": "stream",
     "text": [
      "# 'business':\n",
      "  . Most 3 correlated words in business category:\n",
      "       . its\n",
      "       . bank\n",
      "       . growth\n",
      "# 'entertainment':\n",
      "  . Most 3 correlated words in entertainment category:\n",
      "       . actor\n",
      "       . best\n",
      "       . film\n",
      "# 'politics':\n",
      "  . Most 3 correlated words in politics category:\n",
      "       . election\n",
      "       . mr\n",
      "       . labour\n",
      "# 'sport':\n",
      "  . Most 3 correlated words in sport category:\n",
      "       . of\n",
      "       . cup\n",
      "       . england\n",
      "# 'tech':\n",
      "  . Most 3 correlated words in tech category:\n",
      "       . technology\n",
      "       . users\n",
      "       . mobile\n"
     ]
    }
   ],
   "source": [
    "# Below code section is for the see the most 3 correlated words for each category\n",
    "count_vec = CountVectorizer()\n",
    "features = count_vec.fit_transform(news_text.clean_text).toarray()\n",
    "labels = news_text.category_id\n",
    "\n",
    "N = 3\n",
    "\n",
    "for category, category_id in sorted(category_to_id.items()):\n",
    "    features_chi2 = chi2(features, labels == category_id)  # Do chi2 analyses of all items in this category\n",
    "    indices = np.argsort(\n",
    "        features_chi2[0])  # Sorts the indices of features_chi2[0] - the chi-squared stats of each feature\n",
    "    feature_names = np.array(count_vec.get_feature_names_out())[\n",
    "        indices]  # Converts indices to feature names ( in increasing order of chi-squared stat values)\n",
    "    unigrams = [v for v in feature_names if len(v.split(\n",
    "        ' ')) == 1]  # List of single word features ( in increasing order of chi-squared stat values)\n",
    "    print(\"# '{}':\".format(category))\n",
    "    print(\"  . Most 3 correlated words in\", category, \"category:\\n       . {}\".format(\n",
    "        '\\n       . '.join(unigrams[-N:])))  # Print the words"
   ]
  },
  {
   "cell_type": "code",
   "execution_count": 12,
   "id": "a4daf8d5",
   "metadata": {},
   "outputs": [
    {
     "name": "stdout",
     "output_type": "stream",
     "text": [
      "# 'business':\n",
      "  . Most 10 correlated words for business category:\n",
      "       . firm\n",
      "       . prices\n",
      "       . profits\n",
      "       . economic\n",
      "       . yukos\n",
      "       . economy\n",
      "       . shares\n",
      "       . growth\n",
      "       . bank\n",
      "       . oil\n",
      "# 'entertainment':\n",
      "  . Most 10 correlated words for entertainment category:\n",
      "       . oscar\n",
      "       . singer\n",
      "       . award\n",
      "       . festival\n",
      "       . awards\n",
      "       . album\n",
      "       . best\n",
      "       . band\n",
      "       . actor\n",
      "       . film\n",
      "# 'politics':\n",
      "  . Most 10 correlated words for politics category:\n",
      "       . howard\n",
      "       . lib\n",
      "       . brown\n",
      "       . tories\n",
      "       . tory\n",
      "       . mr\n",
      "       . party\n",
      "       . election\n",
      "       . blair\n",
      "       . labour\n",
      "# 'sport':\n",
      "  . Most 10 correlated words for sport category:\n",
      "       . champion\n",
      "       . arsenal\n",
      "       . season\n",
      "       . win\n",
      "       . injury\n",
      "       . coach\n",
      "       . match\n",
      "       . chelsea\n",
      "       . england\n",
      "       . cup\n",
      "# 'tech':\n",
      "  . Most 10 correlated words for tech category:\n",
      "       . digital\n",
      "       . phones\n",
      "       . online\n",
      "       . computer\n",
      "       . technology\n",
      "       . broadband\n",
      "       . microsoft\n",
      "       . mobile\n",
      "       . software\n",
      "       . users\n"
     ]
    }
   ],
   "source": [
    "# Below code section is for the see the most 10 correlated words for each category\n",
    "tfidf_vec = TfidfVectorizer(ngram_range=(1, 2),max_features=10000, use_idf=True)\n",
    "features2 = tfidf_vec.fit_transform(news_text.clean_text).toarray()\n",
    "\n",
    "N = 10\n",
    "\n",
    "for category, category_id in sorted(category_to_id.items()):\n",
    "    features_chi2_2 = chi2(features2, labels == category_id)  # Do chi2 analyses of all items in this category\n",
    "    indices2 = np.argsort(\n",
    "        features_chi2_2[0])  # Sorts the indices of features_chi2[0] - the chi-squared stats of each feature\n",
    "    feature_names2 = np.array(tfidf_vec.get_feature_names_out())[\n",
    "        indices2]  # Converts indices to feature names ( in increasing order of chi-squared stat values)\n",
    "    unigrams2 = [v for v in feature_names2 if len(v.split(\n",
    "        ' ')) == 1]  # List of single word features ( in increasing order of chi-squared stat values)\n",
    "    print(\"# '{}':\".format(category))\n",
    "    print(\"  . Most 10 correlated words for\", category, \"category:\\n       . {}\".format(\n",
    "        '\\n       . '.join(unigrams2[-N:])))  # Print the words"
   ]
  },
  {
   "cell_type": "code",
   "execution_count": 13,
   "id": "76c8e610",
   "metadata": {},
   "outputs": [
    {
     "name": "stdout",
     "output_type": "stream",
     "text": [
      "# 'business':\n",
      "  . Most 10 correlated words (whose absence) for business category:\n",
      "       . headline\n",
      "       . priority\n",
      "       . lose\n",
      "       . reacted\n",
      "       . massive\n",
      "       . doubts\n",
      "       . doors\n",
      "       . enjoy\n",
      "       . ends\n",
      "       . courts\n",
      "# 'entertainment':\n",
      "  . Most 10 correlated words (whose absence) for entertainment category:\n",
      "       . ranking\n",
      "       . priced\n",
      "       . pm\n",
      "       . memories\n",
      "       . stood\n",
      "       . vision\n",
      "       . straight\n",
      "       . row\n",
      "       . impression\n",
      "       . millions\n",
      "# 'politics':\n",
      "  . Most 10 correlated words (whose absence) for politics category:\n",
      "       . keep\n",
      "       . sit\n",
      "       . satisfied\n",
      "       . walked\n",
      "       . row\n",
      "       . eastern\n",
      "       . patrick\n",
      "       . offensive\n",
      "       . region\n",
      "       . shop\n",
      "# 'sport':\n",
      "  . Most 10 correlated words (whose absence) for sport category:\n",
      "       . slump\n",
      "       . trick\n",
      "       . self\n",
      "       . kong\n",
      "       . classic\n",
      "       . disc\n",
      "       . initial\n",
      "       . poor\n",
      "       . permission\n",
      "       . robbie\n",
      "# 'tech':\n",
      "  . Most 10 correlated words (whose absence) for tech category:\n",
      "       . field\n",
      "       . sell\n",
      "       . ends\n",
      "       . unhappy\n",
      "       . worries\n",
      "       . substantial\n",
      "       . ground\n",
      "       . normal\n",
      "       . classic\n",
      "       . down\n"
     ]
    }
   ],
   "source": [
    "# Below code section is for the see the most 10 correlated words (whose absence) for each category\n",
    "for category, category_id in sorted(category_to_id.items()):\n",
    "    features_chi2_2 = chi2(features2, labels == category_id)  # Do chi2 analyses of all items in this category\n",
    "    indices2 = np.argsort(\n",
    "        features_chi2_2[0])  # Sorts the indices of features_chi2[0] - the chi-squared stats of each feature\n",
    "    feature_names2 = np.array(tfidf_vec.get_feature_names_out())[\n",
    "        indices2]  # Converts indices to feature names ( in increasing order of chi-squared stat values)\n",
    "    unigrams2 = [v for v in feature_names2 if len(v.split(\n",
    "        ' ')) == 1]  # List of single word features ( in increasing order of chi-squared stat values)\n",
    "    print(\"# '{}':\".format(category))\n",
    "    print(\"  . Most 10 correlated words (whose absence) for\", category, \"category:\\n       . {}\".format(\n",
    "        '\\n       . '.join(unigrams2[:N])))  # Print the words whose absence most strongly predicts the category"
   ]
  },
  {
   "cell_type": "code",
   "execution_count": 14,
   "id": "b9a067ec",
   "metadata": {},
   "outputs": [
    {
     "name": "stdout",
     "output_type": "stream",
     "text": [
      "# 'business':\n",
      "  . Most 10 correlated non-stopwords for business category:\n",
      "       . keen\n",
      "       . companies\n",
      "       . free\n",
      "       . terms\n",
      "       . graphics\n",
      "       . satisfied\n",
      "       . eminem\n",
      "       . expressed\n",
      "       . extraordinary\n",
      "       . ignore\n",
      "# 'entertainment':\n",
      "  . Most 10 correlated non-stopwords for entertainment category:\n",
      "       . person\n",
      "       . today\n",
      "       . otherwise\n",
      "       . believes\n",
      "       . theft\n",
      "       . catalogue\n",
      "       . adding\n",
      "       . presley\n",
      "       . argument\n",
      "       . arnold\n",
      "# 'politics':\n",
      "  . Most 10 correlated non-stopwords for politics category:\n",
      "       . ryan\n",
      "       . care\n",
      "       . ryanair\n",
      "       . investor\n",
      "       . meet\n",
      "       . blow\n",
      "       . ons\n",
      "       . public\n",
      "       . family\n",
      "       . lucrative\n",
      "# 'sport':\n",
      "  . Most 10 correlated non-stopwords for sport category:\n",
      "       . struck\n",
      "       . repeated\n",
      "       . keys\n",
      "       . car\n",
      "       . suit\n",
      "       . clint\n",
      "       . noon\n",
      "       . cement\n",
      "       . finally\n",
      "       . deaf\n",
      "# 'tech':\n",
      "  . Most 10 correlated non-stopwords for tech category:\n",
      "       . hoping\n",
      "       . contributions\n",
      "       . quoted\n",
      "       . bollywood\n",
      "       . wide\n",
      "       . parts\n",
      "       . reds\n",
      "       . reduction\n",
      "       . positions\n",
      "       . composer\n"
     ]
    }
   ],
   "source": [
    "# Below code section is for the see the most 10 correlated words after stopwords are removed for each category\n",
    "tfidf_vec2 = TfidfVectorizer(ngram_range=(1, 2), max_features=10000, use_idf=True, stop_words=\"english\")\n",
    "features3 = tfidf_vec2.fit_transform(news_text.clean_text).toarray()\n",
    "for category, category_id in sorted(category_to_id.items()):\n",
    "    features_chi2_3 = chi2(features3, labels == category_id)  # Do chi2 analyses of all items in this category\n",
    "    indices3 = np.argsort(\n",
    "        features_chi2_3[0])  # Sorts the indices of features_chi2[0] - the chi-squared stats of each feature\n",
    "    feature_names3 = np.array(tfidf_vec.get_feature_names_out())[\n",
    "        indices3]  # Converts indices to feature names ( in increasing order of chi-squared stat values)\n",
    "    unigrams3 = [v for v in feature_names3 if len(v.split(\n",
    "        ' ')) == 1]  # List of single word features ( in increasing order of chi-squared stat values)\n",
    "    print(\"# '{}':\".format(category))\n",
    "    print(\"  . Most 10 correlated non-stopwords for\", category, \"category:\\n       . {}\".format(\n",
    "        '\\n       . '.join(unigrams3[-N:])))  # Print the words"
   ]
  },
  {
   "cell_type": "markdown",
   "id": "29a8f18e",
   "metadata": {},
   "source": [
    "### K-fold cross-validation/Shuffle"
   ]
  },
  {
   "cell_type": "code",
   "execution_count": 15,
   "id": "a3006b3b",
   "metadata": {},
   "outputs": [],
   "source": [
    "# kFold starts here\n",
    "news_text = news_text.reindex(np.random.permutation(news_text.index))\n",
    "news_text = news_text.reset_index(drop=True)\n",
    "\n",
    "# Our data has length of 1440 which means each fold will be 288 long\n",
    "fold1 = news_text.loc[0:287]\n",
    "fold2 = news_text.loc[288:575]\n",
    "fold3 = news_text.loc[576:863]\n",
    "fold4 = news_text.loc[864:1151]\n",
    "fold5 = news_text.loc[1152:1439]\n",
    "\n",
    "\n",
    "# 5 different train and test values\n",
    "train_val1 = pd.concat([fold1, fold2, fold3, fold4])\n",
    "test_val1 = fold5\n",
    "\n",
    "train_val2 = pd.concat([fold1, fold2, fold3, fold5])\n",
    "test_val2 = fold4\n",
    "\n",
    "train_val3 = pd.concat([fold1, fold2, fold4, fold5])\n",
    "test_val3 = fold3\n",
    "\n",
    "train_val4 = pd.concat([fold1, fold3, fold4, fold5])\n",
    "test_val4 = fold2\n",
    "\n",
    "train_val5 = pd.concat([fold2, fold3, fold4, fold5])\n",
    "test_val5 = fold1"
   ]
  },
  {
   "cell_type": "markdown",
   "id": "79180054",
   "metadata": {},
   "source": [
    "### More Functions"
   ]
  },
  {
   "cell_type": "code",
   "execution_count": 16,
   "id": "39b26d33",
   "metadata": {},
   "outputs": [],
   "source": [
    "# Function to print the accuracy, precision and recall scores for each method. It will be used in the next function.\n",
    "def print_scores(a1, a2, a3, a4, a5,\n",
    "                 p1, p2, p3, p4, p5,\n",
    "                 r1, r2, r3, r4, r5):\n",
    "    acc_avg = (a1 + a2 + a3 + a4 + a5) / 5\n",
    "    pre_avg = (p1 + p2 + p3 + p4 + p5) / 5\n",
    "    rec_avg = (r1 + r2 + r3 + r4 + r5) / 5\n",
    "\n",
    "    print(\"Accuracy = %.3f\" % acc_avg + \"   Precision = %.2f\" % pre_avg + \"   Recall = %.2f\" % rec_avg)\n",
    "    print(\"\")\n",
    "\n"
   ]
  },
  {
   "cell_type": "code",
   "execution_count": 17,
   "id": "e469845e",
   "metadata": {},
   "outputs": [],
   "source": [
    "# Function to run above functions (calculating scores, printing scores)\n",
    "# Also this function decides which k numbers (1 to 9) will be used according to parameters it will get.\n",
    "def run_and_print(uni_or_big_or_tf, removed, wtd, scnd):\n",
    "    if scnd == \"no\":\n",
    "        for x in range(1, 4, 2):\n",
    "            print(\"Testing for \", uni_or_big_or_tf + \" ||| k value for knn is : \", x)\n",
    "            if removed:\n",
    "                print(\"Stopwords are removed\")\n",
    "            else:\n",
    "                print(\"Stopwords are not removed\")\n",
    "            # print(\"k value for knn is : \", x)\n",
    "            acc1, pre1, rec1 = calculate_scores(train_val1, test_val1, x, uni_or_big_or_tf, removed, wtd)\n",
    "            acc2, pre2, rec2 = calculate_scores(train_val2, test_val2, x, uni_or_big_or_tf, removed, wtd)\n",
    "            acc3, pre3, rec3 = calculate_scores(train_val3, test_val3, x, uni_or_big_or_tf, removed, wtd)\n",
    "            acc4, pre4, rec4 = calculate_scores(train_val4, test_val4, x, uni_or_big_or_tf, removed, wtd)\n",
    "            acc5, pre5, rec5 = calculate_scores(train_val5, test_val5, x, uni_or_big_or_tf, removed, wtd)\n",
    "\n",
    "            print_scores(acc1, acc2, acc3, acc4, acc5,\n",
    "                         pre1, pre2, pre3, pre4, pre5,\n",
    "                         rec1, rec2, rec3, rec4, rec5)\n",
    "    elif scnd == \"yes\":\n",
    "        for x in range(5, 10, 2):\n",
    "            print(\"Testing for \", uni_or_big_or_tf + \" ||| k value for knn is : \", x)\n",
    "            if removed:\n",
    "                print(\"Stopwords are removed\")\n",
    "            else:\n",
    "                print(\"Stopwords are not removed\")\n",
    "            acc1, pre1, rec1 = calculate_scores(train_val1, test_val1, x, uni_or_big_or_tf, removed, wtd)\n",
    "            acc2, pre2, rec2 = calculate_scores(train_val2, test_val2, x, uni_or_big_or_tf, removed, wtd)\n",
    "            acc3, pre3, rec3 = calculate_scores(train_val3, test_val3, x, uni_or_big_or_tf, removed, wtd)\n",
    "            acc4, pre4, rec4 = calculate_scores(train_val4, test_val4, x, uni_or_big_or_tf, removed, wtd)\n",
    "            acc5, pre5, rec5 = calculate_scores(train_val5, test_val5, x, uni_or_big_or_tf, removed, wtd)\n",
    "\n",
    "            print_scores(acc1, acc2, acc3, acc4, acc5,\n",
    "                         pre1, pre2, pre3, pre4, pre5,\n",
    "                         rec1, rec2, rec3, rec4, rec5)\n"
   ]
  },
  {
   "cell_type": "markdown",
   "id": "11955c04",
   "metadata": {},
   "source": [
    "### Error Analysis for Classification"
   ]
  },
  {
   "cell_type": "code",
   "execution_count": 18,
   "id": "a49ea64c",
   "metadata": {},
   "outputs": [],
   "source": [
    "# For commenting few misclassified examples\n",
    "train_val_for = pd.concat([fold1, fold2, fold3, fold4])\n",
    "test_val_for = fold5\n",
    "\n",
    "x_tr = train_val_for.clean_text\n",
    "y_tr = train_val_for.Category\n",
    "x_st = test_val_for.clean_text\n",
    "y_st = test_val_for.Category"
   ]
  },
  {
   "cell_type": "code",
   "execution_count": 19,
   "id": "7844be0d",
   "metadata": {},
   "outputs": [],
   "source": [
    "# Using unigram to see misclassifed examples\n",
    "vec = CountVectorizer(ngram_range=(1, 1), max_features=100)\n",
    "vec.fit(x_tr)\n",
    "\n",
    "X_transformed = vec.transform(x_tr)\n",
    "X_test_transformed = vec.transform(x_st)\n",
    "\n",
    "X_transformed = X_transformed.toarray()\n",
    "X_test_transformed = X_test_transformed.toarray()\n",
    "\n",
    "clf_for = KNN(k=3)\n",
    "clf_for.fit(X_transformed, y_tr)\n",
    "\n",
    "y_pred_class = clf_for.predict(X_test_transformed)"
   ]
  },
  {
   "cell_type": "code",
   "execution_count": 20,
   "id": "254cc736",
   "metadata": {},
   "outputs": [
    {
     "name": "stdout",
     "output_type": "stream",
     "text": [
      "1. news that misclassified : \n",
      "microsoft gets the blogging bug software giant microsoft is taking the plunge into the world of blogging it is launching a test service to allow people to publish blogs or online journals called msn spaces microsoft is trailing behind competitors like google and aol which already offer services which make it easy for people to set up web journals blogs short for web logs have become a popular way for people to talk about their lives and express opinions online msn spaces is free to anyone with a hotmail or msn messenger account people will be able to choose a layout for the page upload images and share photo albums and music playlists the service will be supported by banner ads this is a simple tool for people to express themselves said msn s blake irving this is microsoft s first foray into blogging which has taken off as a web phenomenon in the past year competitors like google already offer free services through its blogger site while aol provides its members with journals accurate figures for the number of blogs in existence are hard to come by according to blog analysis firm technorati the so called blogosphere has doubled every five and a half months for the last months it now estimates that the number of blogs in existence has exceeded million although some speculate that less than a quarter are regularly maintained\n",
      "True Value is : tech ||| Prediction was : entertainment\n",
      "\n",
      "2. news that misclassified : \n",
      "argonaut founder rebuilds empire jez san the man behind the argonaut games group which went into administration a week ago has bought back most of the company the veteran games developer has taken over the cambridge based just add monsters studios and the london subsidiary morpheme the argonaut group went into administration due to a severe cash crisis firing about half of its staff in august it had warned of annual losses of m for the year to july jez san is one of the key figures in the uk s games industry the developer who received an obe in was estimated to have been worth more than m at the peak of the dotcom boom he founded argonaut in and has been behind titles such as starfox game more recently it was behind the harry potter games for the playstation but like all software developers argonaut needed a constant flow of deals with publishers in august it warned of annual losses of m blaming delays in signing new contracts and tough conditions in the software industry the group s three subsidiaries were placed in administration a week ago with mr sans resigning as the company s ceo and some staff being fired after the latest round of cuts there were workers at argonaut headquarters in edgware in north london with at its morpheme offices in kentish town london and at the just add monsters base in cambridge mr san has re emerged buying back morpheme and just add monsters we are pleased to announce the sale of these two businesses as going concerns said david rubin of administrators david rubin partners this has saved over jobs as well as the substantial employment claims that would have arisen had the sales not been achieved mr rubin said the administrators were in talks over the sale of the argonaut software division in edgware and were hopeful of finding a buyer this is a very difficult time for all the employees there but i salute their commitment to the business while we work towards a solution he said some former employees are angry at the way cash crisis was handled one told bbc news online that the staff who had been fired had been financially ruined in the space of a day\n",
      "True Value is : tech ||| Prediction was : business\n",
      "\n",
      "3. news that misclassified : \n",
      "no uk apology for colonial past the days of britain having to apologise for its colonial past are over gordon brown has said the chancellor speaking during a week long tour of africa said it was time to talk about enduring british values of liberty and tolerance mr brown has signed a debt relief deal with tanzania which could cost the uk billion south african president thabo mbeki has attacked british imperialists saying they treated africans like savages mr brown said that missionairies had come to africa because of their sense of duty he added that the history of internationalism and enterprise had given britain a greater global reach than any other country bbc political correspondent mark mardell said britishness had long been a theme of the chancellor s but never before has he been so outspoken in defending britain s past history the uk has pledged to pay of the developing world s foreign debt bill in an attempt to fight poverty on top of the relief deal with tanzania mr brown said the uk would make similar offers to poorer nations around the world under the plan which could cost the ukcountries must spend the cash saved on health education and welfare we make this offer unilaterally but we are now asking other countries to join us the chancellor said mr brown on a week long tour of africa spent two days in tanzania before heading on friday evening to mozambique a country where more than half of the million population lives below the poverty line there he is expected to strike a similar debt relief pact the chancellor said he hoped other g and european countries would follow suit the uk has already cancelled its bilateral debts money the uk alone is owed with the world s poorest nations including tanzania former international development secretary clare short questioned the effectiveness of debt relief as a means of tackling poverty\n",
      "True Value is : politics ||| Prediction was : business\n",
      "\n",
      "\n"
     ]
    }
   ],
   "source": [
    "found = 0\n",
    "for i in range(len(y_pred_class)):\n",
    "    if not np.equal(y_pred_class[i], y_st.iloc[i]):\n",
    "        found += 1\n",
    "        print(str(found) + \". news that misclassified : \")\n",
    "        print(x_st.iloc[i])\n",
    "        print(\"True Value is : \" + str(y_st.iloc[i]) + \" ||| Prediction was : \" + str(y_pred_class[i]))\n",
    "        print(\"\")\n",
    "        if found == 3:\n",
    "            break\n",
    "print(\"\")"
   ]
  },
  {
   "cell_type": "markdown",
   "id": "4daa818e",
   "metadata": {},
   "source": [
    "#### Comments about misclassified samples  \n",
    "\n",
    "1 - In the first news there are words like blogs, journals maybe because of that algorithm classified it as entertainment instead of tech.  \n",
    "2 - Even though second news was about tech, algorithm classified it as business. I think the news is between business and tech\n",
    "There are lots of words which could be in business category thats why algorithm classified it wrong.  \n",
    "3 - In the last news i saw words like debt, bill, money. These words helped the algorithm to choose business and i saw lots of words could be related to politics category but all of them could be in different categories, i think that was the reasons that our algorithm misclassified this example."
   ]
  },
  {
   "cell_type": "markdown",
   "id": "d2373616",
   "metadata": {},
   "source": [
    "#### Running all methods"
   ]
  },
  {
   "cell_type": "code",
   "execution_count": 22,
   "id": "21f90d0b",
   "metadata": {},
   "outputs": [],
   "source": [
    "# Function to more organized and run the methods\n",
    "def run_final(weight, sec):\n",
    "    run_and_print(\"unigram\", False, weight, sec)\n",
    "    run_and_print(\"bigram\", False, weight, sec)\n",
    "    run_and_print(\"tf-idf\", False, weight, sec)\n",
    "    run_and_print(\"unigram\", True, weight, sec)\n",
    "    run_and_print(\"bigram\", True, weight, sec)\n",
    "    run_and_print(\"tf-idf\", True, weight, sec)\n",
    "\n",
    "\n",
    "# Function to be more organized and run the best 2 methods\n",
    "def run_best2(weight, sec):\n",
    "    run_and_print(\"tf-idf\", False, weight, sec)\n",
    "    run_and_print(\"tf-idf\", True, weight, sec)\n"
   ]
  },
  {
   "cell_type": "code",
   "execution_count": 23,
   "id": "a10ceb0e",
   "metadata": {},
   "outputs": [
    {
     "name": "stdout",
     "output_type": "stream",
     "text": [
      "Testing for  unigram ||| k value for knn is :  1\n",
      "Stopwords are not removed\n",
      "Accuracy = 0.838   Precision = 0.60   Recall = 0.60\n",
      "\n",
      "Testing for  unigram ||| k value for knn is :  3\n",
      "Stopwords are not removed\n",
      "Accuracy = 0.850   Precision = 0.63   Recall = 0.63\n",
      "\n",
      "Testing for  bigram ||| k value for knn is :  1\n",
      "Stopwords are not removed\n",
      "Accuracy = 0.785   Precision = 0.46   Recall = 0.46\n",
      "\n",
      "Testing for  bigram ||| k value for knn is :  3\n",
      "Stopwords are not removed\n",
      "Accuracy = 0.788   Precision = 0.47   Recall = 0.47\n",
      "\n",
      "Testing for  tf-idf ||| k value for knn is :  1\n",
      "Stopwords are not removed\n",
      "Accuracy = 0.956   Precision = 0.89   Recall = 0.89\n",
      "\n",
      "Testing for  tf-idf ||| k value for knn is :  3\n",
      "Stopwords are not removed\n",
      "Accuracy = 0.960   Precision = 0.90   Recall = 0.90\n",
      "\n",
      "Testing for  unigram ||| k value for knn is :  1\n",
      "Stopwords are removed\n",
      "Accuracy = 0.892   Precision = 0.73   Recall = 0.73\n",
      "\n",
      "Testing for  unigram ||| k value for knn is :  3\n",
      "Stopwords are removed\n",
      "Accuracy = 0.896   Precision = 0.74   Recall = 0.74\n",
      "\n",
      "Testing for  bigram ||| k value for knn is :  1\n",
      "Stopwords are removed\n",
      "Accuracy = 0.841   Precision = 0.60   Recall = 0.60\n",
      "\n",
      "Testing for  bigram ||| k value for knn is :  3\n",
      "Stopwords are removed\n",
      "Accuracy = 0.845   Precision = 0.61   Recall = 0.61\n",
      "\n",
      "Testing for  tf-idf ||| k value for knn is :  1\n",
      "Stopwords are removed\n",
      "Accuracy = 0.962   Precision = 0.90   Recall = 0.90\n",
      "\n",
      "Testing for  tf-idf ||| k value for knn is :  3\n",
      "Stopwords are removed\n",
      "Accuracy = 0.966   Precision = 0.92   Recall = 0.92\n",
      "\n"
     ]
    }
   ],
   "source": [
    "weighted = \"no\"  # To use KNN algorithm\n",
    "secondTime = \"no\"  # only for 1 to 3 k values\n",
    "run_final(weighted, secondTime)  # run all methods"
   ]
  },
  {
   "cell_type": "code",
   "execution_count": 24,
   "id": "be55c6b8",
   "metadata": {},
   "outputs": [
    {
     "name": "stdout",
     "output_type": "stream",
     "text": [
      "--- Now for weighted knn algorithm ---\n",
      "\n",
      "Testing for  unigram ||| k value for knn is :  1\n",
      "Stopwords are not removed\n",
      "Accuracy = 0.838   Precision = 0.60   Recall = 0.60\n",
      "\n",
      "Testing for  unigram ||| k value for knn is :  3\n",
      "Stopwords are not removed\n",
      "Accuracy = 0.855   Precision = 0.64   Recall = 0.64\n",
      "\n",
      "Testing for  bigram ||| k value for knn is :  1\n",
      "Stopwords are not removed\n",
      "Accuracy = 0.785   Precision = 0.46   Recall = 0.46\n",
      "\n",
      "Testing for  bigram ||| k value for knn is :  3\n",
      "Stopwords are not removed\n",
      "Accuracy = 0.790   Precision = 0.48   Recall = 0.48\n",
      "\n",
      "Testing for  tf-idf ||| k value for knn is :  1\n",
      "Stopwords are not removed\n",
      "Accuracy = 0.956   Precision = 0.89   Recall = 0.89\n",
      "\n",
      "Testing for  tf-idf ||| k value for knn is :  3\n",
      "Stopwords are not removed\n",
      "Accuracy = 0.960   Precision = 0.90   Recall = 0.90\n",
      "\n",
      "Testing for  unigram ||| k value for knn is :  1\n",
      "Stopwords are removed\n",
      "Accuracy = 0.892   Precision = 0.73   Recall = 0.73\n",
      "\n",
      "Testing for  unigram ||| k value for knn is :  3\n",
      "Stopwords are removed\n",
      "Accuracy = 0.897   Precision = 0.74   Recall = 0.74\n",
      "\n",
      "Testing for  bigram ||| k value for knn is :  1\n",
      "Stopwords are removed\n",
      "Accuracy = 0.841   Precision = 0.60   Recall = 0.60\n",
      "\n",
      "Testing for  bigram ||| k value for knn is :  3\n",
      "Stopwords are removed\n",
      "Accuracy = 0.846   Precision = 0.62   Recall = 0.62\n",
      "\n",
      "Testing for  tf-idf ||| k value for knn is :  1\n",
      "Stopwords are removed\n",
      "Accuracy = 0.962   Precision = 0.90   Recall = 0.90\n",
      "\n",
      "Testing for  tf-idf ||| k value for knn is :  3\n",
      "Stopwords are removed\n",
      "Accuracy = 0.966   Precision = 0.92   Recall = 0.92\n",
      "\n"
     ]
    }
   ],
   "source": [
    "print(\"--- Now for weighted knn algorithm ---\")\n",
    "print(\"\")\n",
    "weighted = \"yes\"  # To use weighted KNN algorithm\n",
    "run_final(weighted, secondTime)  # run all methods with weighted"
   ]
  },
  {
   "cell_type": "code",
   "execution_count": 25,
   "id": "0db0a831",
   "metadata": {},
   "outputs": [
    {
     "name": "stdout",
     "output_type": "stream",
     "text": [
      "--- Now for best 2 methods ---\n",
      "\n",
      "Testing for  tf-idf ||| k value for knn is :  5\n",
      "Stopwords are not removed\n",
      "Accuracy = 0.967   Precision = 0.92   Recall = 0.92\n",
      "\n",
      "Testing for  tf-idf ||| k value for knn is :  7\n",
      "Stopwords are not removed\n",
      "Accuracy = 0.969   Precision = 0.92   Recall = 0.92\n",
      "\n",
      "Testing for  tf-idf ||| k value for knn is :  9\n",
      "Stopwords are not removed\n",
      "Accuracy = 0.968   Precision = 0.92   Recall = 0.92\n",
      "\n",
      "Testing for  tf-idf ||| k value for knn is :  5\n",
      "Stopwords are removed\n",
      "Accuracy = 0.969   Precision = 0.92   Recall = 0.92\n",
      "\n",
      "Testing for  tf-idf ||| k value for knn is :  7\n",
      "Stopwords are removed\n",
      "Accuracy = 0.969   Precision = 0.92   Recall = 0.92\n",
      "\n",
      "Testing for  tf-idf ||| k value for knn is :  9\n",
      "Stopwords are removed\n",
      "Accuracy = 0.971   Precision = 0.93   Recall = 0.93\n",
      "\n"
     ]
    }
   ],
   "source": [
    "# After the results we have seen that we got the best accuracies from tf-idf and tf-idf when stopwords are removed.\n",
    "print(\"--- Now for best 2 methods ---\")\n",
    "print(\"\")\n",
    "weighted = \"no\"  # To use KNN algorithm with best 2 method\n",
    "secondTime = \"yes\"  # only for 5 to 9 k values\n",
    "run_best2(weighted, secondTime)  # run best 2 methods"
   ]
  },
  {
   "cell_type": "code",
   "execution_count": 26,
   "id": "a58dee6d",
   "metadata": {},
   "outputs": [
    {
     "name": "stdout",
     "output_type": "stream",
     "text": [
      "--- Now for best 2 methods with weighted ---\n",
      "\n",
      "Testing for  tf-idf ||| k value for knn is :  5\n",
      "Stopwords are not removed\n",
      "Accuracy = 0.967   Precision = 0.92   Recall = 0.92\n",
      "\n",
      "Testing for  tf-idf ||| k value for knn is :  7\n",
      "Stopwords are not removed\n",
      "Accuracy = 0.968   Precision = 0.92   Recall = 0.92\n",
      "\n",
      "Testing for  tf-idf ||| k value for knn is :  9\n",
      "Stopwords are not removed\n",
      "Accuracy = 0.968   Precision = 0.92   Recall = 0.92\n",
      "\n",
      "Testing for  tf-idf ||| k value for knn is :  5\n",
      "Stopwords are removed\n",
      "Accuracy = 0.970   Precision = 0.92   Recall = 0.92\n",
      "\n",
      "Testing for  tf-idf ||| k value for knn is :  7\n",
      "Stopwords are removed\n",
      "Accuracy = 0.969   Precision = 0.92   Recall = 0.92\n",
      "\n",
      "Testing for  tf-idf ||| k value for knn is :  9\n",
      "Stopwords are removed\n",
      "Accuracy = 0.971   Precision = 0.93   Recall = 0.93\n",
      "\n"
     ]
    }
   ],
   "source": [
    "print(\"--- Now for best 2 methods with weighted ---\")\n",
    "print(\"\")\n",
    "weighted = \"yes\"  # To use weighted KNN algorithm with best 2 method\n",
    "run_best2(weighted, secondTime)  # run best 2 methods"
   ]
  },
  {
   "cell_type": "code",
   "execution_count": 3,
   "id": "76d38484",
   "metadata": {},
   "outputs": [
    {
     "ename": "FileNotFoundError",
     "evalue": "[Errno 2] No such file or directory: 'results_part1.xlsx'",
     "output_type": "error",
     "traceback": [
      "\u001b[1;31m---------------------------------------------------------------------------\u001b[0m",
      "\u001b[1;31mFileNotFoundError\u001b[0m                         Traceback (most recent call last)",
      "\u001b[1;32m~\\AppData\\Local\\Temp\\ipykernel_15160\\1940163421.py\u001b[0m in \u001b[0;36m<module>\u001b[1;34m\u001b[0m\n\u001b[1;32m----> 1\u001b[1;33m \u001b[0mresults\u001b[0m \u001b[1;33m=\u001b[0m \u001b[0mpd\u001b[0m\u001b[1;33m.\u001b[0m\u001b[0mread_excel\u001b[0m\u001b[1;33m(\u001b[0m\u001b[1;34m'results_part1.xlsx'\u001b[0m\u001b[1;33m)\u001b[0m\u001b[1;33m\u001b[0m\u001b[1;33m\u001b[0m\u001b[0m\n\u001b[0m\u001b[0;32m      2\u001b[0m \u001b[0mprint\u001b[0m\u001b[1;33m(\u001b[0m\u001b[0mresults\u001b[0m\u001b[1;33m)\u001b[0m\u001b[1;33m\u001b[0m\u001b[1;33m\u001b[0m\u001b[0m\n",
      "\u001b[1;32mc:\\ProgramData\\Anaconda3\\lib\\site-packages\\pandas\\util\\_decorators.py\u001b[0m in \u001b[0;36mwrapper\u001b[1;34m(*args, **kwargs)\u001b[0m\n\u001b[0;32m    309\u001b[0m                     \u001b[0mstacklevel\u001b[0m\u001b[1;33m=\u001b[0m\u001b[0mstacklevel\u001b[0m\u001b[1;33m,\u001b[0m\u001b[1;33m\u001b[0m\u001b[1;33m\u001b[0m\u001b[0m\n\u001b[0;32m    310\u001b[0m                 )\n\u001b[1;32m--> 311\u001b[1;33m             \u001b[1;32mreturn\u001b[0m \u001b[0mfunc\u001b[0m\u001b[1;33m(\u001b[0m\u001b[1;33m*\u001b[0m\u001b[0margs\u001b[0m\u001b[1;33m,\u001b[0m \u001b[1;33m**\u001b[0m\u001b[0mkwargs\u001b[0m\u001b[1;33m)\u001b[0m\u001b[1;33m\u001b[0m\u001b[1;33m\u001b[0m\u001b[0m\n\u001b[0m\u001b[0;32m    312\u001b[0m \u001b[1;33m\u001b[0m\u001b[0m\n\u001b[0;32m    313\u001b[0m         \u001b[1;32mreturn\u001b[0m \u001b[0mwrapper\u001b[0m\u001b[1;33m\u001b[0m\u001b[1;33m\u001b[0m\u001b[0m\n",
      "\u001b[1;32mc:\\ProgramData\\Anaconda3\\lib\\site-packages\\pandas\\io\\excel\\_base.py\u001b[0m in \u001b[0;36mread_excel\u001b[1;34m(io, sheet_name, header, names, index_col, usecols, squeeze, dtype, engine, converters, true_values, false_values, skiprows, nrows, na_values, keep_default_na, na_filter, verbose, parse_dates, date_parser, thousands, decimal, comment, skipfooter, convert_float, mangle_dupe_cols, storage_options)\u001b[0m\n\u001b[0;32m    455\u001b[0m     \u001b[1;32mif\u001b[0m \u001b[1;32mnot\u001b[0m \u001b[0misinstance\u001b[0m\u001b[1;33m(\u001b[0m\u001b[0mio\u001b[0m\u001b[1;33m,\u001b[0m \u001b[0mExcelFile\u001b[0m\u001b[1;33m)\u001b[0m\u001b[1;33m:\u001b[0m\u001b[1;33m\u001b[0m\u001b[1;33m\u001b[0m\u001b[0m\n\u001b[0;32m    456\u001b[0m         \u001b[0mshould_close\u001b[0m \u001b[1;33m=\u001b[0m \u001b[1;32mTrue\u001b[0m\u001b[1;33m\u001b[0m\u001b[1;33m\u001b[0m\u001b[0m\n\u001b[1;32m--> 457\u001b[1;33m         \u001b[0mio\u001b[0m \u001b[1;33m=\u001b[0m \u001b[0mExcelFile\u001b[0m\u001b[1;33m(\u001b[0m\u001b[0mio\u001b[0m\u001b[1;33m,\u001b[0m \u001b[0mstorage_options\u001b[0m\u001b[1;33m=\u001b[0m\u001b[0mstorage_options\u001b[0m\u001b[1;33m,\u001b[0m \u001b[0mengine\u001b[0m\u001b[1;33m=\u001b[0m\u001b[0mengine\u001b[0m\u001b[1;33m)\u001b[0m\u001b[1;33m\u001b[0m\u001b[1;33m\u001b[0m\u001b[0m\n\u001b[0m\u001b[0;32m    458\u001b[0m     \u001b[1;32melif\u001b[0m \u001b[0mengine\u001b[0m \u001b[1;32mand\u001b[0m \u001b[0mengine\u001b[0m \u001b[1;33m!=\u001b[0m \u001b[0mio\u001b[0m\u001b[1;33m.\u001b[0m\u001b[0mengine\u001b[0m\u001b[1;33m:\u001b[0m\u001b[1;33m\u001b[0m\u001b[1;33m\u001b[0m\u001b[0m\n\u001b[0;32m    459\u001b[0m         raise ValueError(\n",
      "\u001b[1;32mc:\\ProgramData\\Anaconda3\\lib\\site-packages\\pandas\\io\\excel\\_base.py\u001b[0m in \u001b[0;36m__init__\u001b[1;34m(self, path_or_buffer, engine, storage_options)\u001b[0m\n\u001b[0;32m   1374\u001b[0m                 \u001b[0mext\u001b[0m \u001b[1;33m=\u001b[0m \u001b[1;34m\"xls\"\u001b[0m\u001b[1;33m\u001b[0m\u001b[1;33m\u001b[0m\u001b[0m\n\u001b[0;32m   1375\u001b[0m             \u001b[1;32melse\u001b[0m\u001b[1;33m:\u001b[0m\u001b[1;33m\u001b[0m\u001b[1;33m\u001b[0m\u001b[0m\n\u001b[1;32m-> 1376\u001b[1;33m                 ext = inspect_excel_format(\n\u001b[0m\u001b[0;32m   1377\u001b[0m                     \u001b[0mcontent_or_path\u001b[0m\u001b[1;33m=\u001b[0m\u001b[0mpath_or_buffer\u001b[0m\u001b[1;33m,\u001b[0m \u001b[0mstorage_options\u001b[0m\u001b[1;33m=\u001b[0m\u001b[0mstorage_options\u001b[0m\u001b[1;33m\u001b[0m\u001b[1;33m\u001b[0m\u001b[0m\n\u001b[0;32m   1378\u001b[0m                 )\n",
      "\u001b[1;32mc:\\ProgramData\\Anaconda3\\lib\\site-packages\\pandas\\io\\excel\\_base.py\u001b[0m in \u001b[0;36minspect_excel_format\u001b[1;34m(content_or_path, storage_options)\u001b[0m\n\u001b[0;32m   1248\u001b[0m         \u001b[0mcontent_or_path\u001b[0m \u001b[1;33m=\u001b[0m \u001b[0mBytesIO\u001b[0m\u001b[1;33m(\u001b[0m\u001b[0mcontent_or_path\u001b[0m\u001b[1;33m)\u001b[0m\u001b[1;33m\u001b[0m\u001b[1;33m\u001b[0m\u001b[0m\n\u001b[0;32m   1249\u001b[0m \u001b[1;33m\u001b[0m\u001b[0m\n\u001b[1;32m-> 1250\u001b[1;33m     with get_handle(\n\u001b[0m\u001b[0;32m   1251\u001b[0m         \u001b[0mcontent_or_path\u001b[0m\u001b[1;33m,\u001b[0m \u001b[1;34m\"rb\"\u001b[0m\u001b[1;33m,\u001b[0m \u001b[0mstorage_options\u001b[0m\u001b[1;33m=\u001b[0m\u001b[0mstorage_options\u001b[0m\u001b[1;33m,\u001b[0m \u001b[0mis_text\u001b[0m\u001b[1;33m=\u001b[0m\u001b[1;32mFalse\u001b[0m\u001b[1;33m\u001b[0m\u001b[1;33m\u001b[0m\u001b[0m\n\u001b[0;32m   1252\u001b[0m     ) as handle:\n",
      "\u001b[1;32mc:\\ProgramData\\Anaconda3\\lib\\site-packages\\pandas\\io\\common.py\u001b[0m in \u001b[0;36mget_handle\u001b[1;34m(path_or_buf, mode, encoding, compression, memory_map, is_text, errors, storage_options)\u001b[0m\n\u001b[0;32m    796\u001b[0m         \u001b[1;32melse\u001b[0m\u001b[1;33m:\u001b[0m\u001b[1;33m\u001b[0m\u001b[1;33m\u001b[0m\u001b[0m\n\u001b[0;32m    797\u001b[0m             \u001b[1;31m# Binary mode\u001b[0m\u001b[1;33m\u001b[0m\u001b[1;33m\u001b[0m\u001b[0m\n\u001b[1;32m--> 798\u001b[1;33m             \u001b[0mhandle\u001b[0m \u001b[1;33m=\u001b[0m \u001b[0mopen\u001b[0m\u001b[1;33m(\u001b[0m\u001b[0mhandle\u001b[0m\u001b[1;33m,\u001b[0m \u001b[0mioargs\u001b[0m\u001b[1;33m.\u001b[0m\u001b[0mmode\u001b[0m\u001b[1;33m)\u001b[0m\u001b[1;33m\u001b[0m\u001b[1;33m\u001b[0m\u001b[0m\n\u001b[0m\u001b[0;32m    799\u001b[0m         \u001b[0mhandles\u001b[0m\u001b[1;33m.\u001b[0m\u001b[0mappend\u001b[0m\u001b[1;33m(\u001b[0m\u001b[0mhandle\u001b[0m\u001b[1;33m)\u001b[0m\u001b[1;33m\u001b[0m\u001b[1;33m\u001b[0m\u001b[0m\n\u001b[0;32m    800\u001b[0m \u001b[1;33m\u001b[0m\u001b[0m\n",
      "\u001b[1;31mFileNotFoundError\u001b[0m: [Errno 2] No such file or directory: 'results_part1.xlsx'"
     ]
    }
   ],
   "source": [
    "results = pd.read_excel('results_part1.xlsx')\n",
    "print(results)"
   ]
  },
  {
   "cell_type": "markdown",
   "id": "16026cc6",
   "metadata": {},
   "source": [
    "We can see from the results:  \n",
    "\n",
    "We got the best accuracy with TF-IDF vectorizer when stopwords are removed and k was equal to 7.  \n",
    "In above scenario knn and weighted knn algorithm gave us similar accuracies.\n",
    "\n",
    "We got the worst accuracy with bigram when stopwords are not removed and k was equal to 1.  \n",
    "Again in above scenario both algorithms gave us similar accuracies.  \n",
    "\n",
    "From the results we saw that increasing k value doesn't have big impact on accuracies.  \n",
    "But removing stopwords slightly increases accuracy on all of methods.  \n",
    "\n",
    "In conclusion, we should use tf-idf vectorizer when working with this dataset for text classification.\n"
   ]
  },
  {
   "cell_type": "markdown",
   "id": "d2353121",
   "metadata": {},
   "source": [
    "# PART2"
   ]
  },
  {
   "cell_type": "code",
   "execution_count": 1,
   "id": "ce492138",
   "metadata": {},
   "outputs": [
    {
     "name": "stderr",
     "output_type": "stream",
     "text": [
      "c:\\ProgramData\\Anaconda3\\lib\\site-packages\\numpy\\_distributor_init.py:30: UserWarning: loaded more than 1 DLL from .libs:\n",
      "c:\\ProgramData\\Anaconda3\\lib\\site-packages\\numpy\\.libs\\libopenblas.EL2C6PLE4ZYW3ECEVIV3OXXGRN2NRFM2.gfortran-win_amd64.dll\n",
      "c:\\ProgramData\\Anaconda3\\lib\\site-packages\\numpy\\.libs\\libopenblas.FB5AE2TYXYH2IJRDKGDGQ3XBKLKTF43H.gfortran-win_amd64.dll\n",
      "  warnings.warn(\"loaded more than 1 DLL from .libs:\"\n",
      "c:\\ProgramData\\Anaconda3\\lib\\site-packages\\scipy\\__init__.py:146: UserWarning: A NumPy version >=1.16.5 and <1.23.0 is required for this version of SciPy (detected version 1.23.0\n",
      "  warnings.warn(f\"A NumPy version >={np_minversion} and <{np_maxversion}\"\n"
     ]
    }
   ],
   "source": [
    "import pandas as pd\n",
    "import numpy as np\n",
    "import math\n",
    "from sklearn.preprocessing import LabelEncoder\n",
    "#Imported these libraries to compare my results with ready methods\n",
    "from sklearn.model_selection import KFold\n",
    "from sklearn import neighbors"
   ]
  },
  {
   "cell_type": "markdown",
   "id": "d870b85a",
   "metadata": {},
   "source": [
    "# Data Preprocessing"
   ]
  },
  {
   "cell_type": "code",
   "execution_count": 2,
   "id": "6b1b7ec5",
   "metadata": {},
   "outputs": [],
   "source": [
    "#Reading Data\n",
    "data = pd.read_csv('insurance.csv')"
   ]
  },
  {
   "cell_type": "code",
   "execution_count": 3,
   "id": "2a634bf9",
   "metadata": {},
   "outputs": [
    {
     "name": "stdout",
     "output_type": "stream",
     "text": [
      "Number of rows/examples: 1338\n",
      "Number of columns/features: 7\n"
     ]
    }
   ],
   "source": [
    "#Checking data shape\n",
    "rows,columns = data.shape\n",
    "print(f\"Number of rows/examples: {rows}\")\n",
    "print(f\"Number of columns/features: {columns}\")"
   ]
  },
  {
   "cell_type": "code",
   "execution_count": 4,
   "id": "63765cbf",
   "metadata": {},
   "outputs": [
    {
     "data": {
      "text/html": [
       "<div>\n",
       "<style scoped>\n",
       "    .dataframe tbody tr th:only-of-type {\n",
       "        vertical-align: middle;\n",
       "    }\n",
       "\n",
       "    .dataframe tbody tr th {\n",
       "        vertical-align: top;\n",
       "    }\n",
       "\n",
       "    .dataframe thead th {\n",
       "        text-align: right;\n",
       "    }\n",
       "</style>\n",
       "<table border=\"1\" class=\"dataframe\">\n",
       "  <thead>\n",
       "    <tr style=\"text-align: right;\">\n",
       "      <th></th>\n",
       "      <th>age</th>\n",
       "      <th>sex</th>\n",
       "      <th>bmi</th>\n",
       "      <th>children</th>\n",
       "      <th>smoker</th>\n",
       "      <th>region</th>\n",
       "      <th>charges</th>\n",
       "    </tr>\n",
       "  </thead>\n",
       "  <tbody>\n",
       "    <tr>\n",
       "      <th>0</th>\n",
       "      <td>19</td>\n",
       "      <td>female</td>\n",
       "      <td>27.900</td>\n",
       "      <td>0</td>\n",
       "      <td>yes</td>\n",
       "      <td>southwest</td>\n",
       "      <td>16884.92400</td>\n",
       "    </tr>\n",
       "    <tr>\n",
       "      <th>1</th>\n",
       "      <td>18</td>\n",
       "      <td>male</td>\n",
       "      <td>33.770</td>\n",
       "      <td>1</td>\n",
       "      <td>no</td>\n",
       "      <td>southeast</td>\n",
       "      <td>1725.55230</td>\n",
       "    </tr>\n",
       "    <tr>\n",
       "      <th>2</th>\n",
       "      <td>28</td>\n",
       "      <td>male</td>\n",
       "      <td>33.000</td>\n",
       "      <td>3</td>\n",
       "      <td>no</td>\n",
       "      <td>southeast</td>\n",
       "      <td>4449.46200</td>\n",
       "    </tr>\n",
       "    <tr>\n",
       "      <th>3</th>\n",
       "      <td>33</td>\n",
       "      <td>male</td>\n",
       "      <td>22.705</td>\n",
       "      <td>0</td>\n",
       "      <td>no</td>\n",
       "      <td>northwest</td>\n",
       "      <td>21984.47061</td>\n",
       "    </tr>\n",
       "    <tr>\n",
       "      <th>4</th>\n",
       "      <td>32</td>\n",
       "      <td>male</td>\n",
       "      <td>28.880</td>\n",
       "      <td>0</td>\n",
       "      <td>no</td>\n",
       "      <td>northwest</td>\n",
       "      <td>3866.85520</td>\n",
       "    </tr>\n",
       "  </tbody>\n",
       "</table>\n",
       "</div>"
      ],
      "text/plain": [
       "   age     sex     bmi  children smoker     region      charges\n",
       "0   19  female  27.900         0    yes  southwest  16884.92400\n",
       "1   18    male  33.770         1     no  southeast   1725.55230\n",
       "2   28    male  33.000         3     no  southeast   4449.46200\n",
       "3   33    male  22.705         0     no  northwest  21984.47061\n",
       "4   32    male  28.880         0     no  northwest   3866.85520"
      ]
     },
     "execution_count": 4,
     "metadata": {},
     "output_type": "execute_result"
    }
   ],
   "source": [
    "#some examples from data\n",
    "data.head()"
   ]
  },
  {
   "cell_type": "code",
   "execution_count": 5,
   "id": "098dbbb9",
   "metadata": {},
   "outputs": [
    {
     "name": "stdout",
     "output_type": "stream",
     "text": [
      "<class 'pandas.core.frame.DataFrame'>\n",
      "RangeIndex: 1338 entries, 0 to 1337\n",
      "Data columns (total 7 columns):\n",
      " #   Column    Non-Null Count  Dtype  \n",
      "---  ------    --------------  -----  \n",
      " 0   age       1338 non-null   int64  \n",
      " 1   sex       1338 non-null   object \n",
      " 2   bmi       1338 non-null   float64\n",
      " 3   children  1338 non-null   int64  \n",
      " 4   smoker    1338 non-null   object \n",
      " 5   region    1338 non-null   object \n",
      " 6   charges   1338 non-null   float64\n",
      "dtypes: float64(2), int64(2), object(3)\n",
      "memory usage: 73.3+ KB\n"
     ]
    }
   ],
   "source": [
    "#checking null values and type of features\n",
    "data.info()"
   ]
  },
  {
   "cell_type": "code",
   "execution_count": 6,
   "id": "8f4c306a",
   "metadata": {},
   "outputs": [
    {
     "name": "stdout",
     "output_type": "stream",
     "text": [
      "int32\n"
     ]
    }
   ],
   "source": [
    "le = LabelEncoder()\n",
    "#changing type from object to int\n",
    "sex = le.fit_transform(data[\"sex\"])\n",
    "data[\"sex\"] = sex\n",
    "# Print the dtype for checking the transformation\n",
    "print(data[\"sex\"].dtype)"
   ]
  },
  {
   "cell_type": "code",
   "execution_count": 7,
   "id": "e32d86f4",
   "metadata": {},
   "outputs": [
    {
     "name": "stdout",
     "output_type": "stream",
     "text": [
      "int32\n"
     ]
    }
   ],
   "source": [
    "#changing type from object to int\n",
    "smoker = le.fit_transform(data[\"smoker\"])\n",
    "data[\"smoker\"] = smoker\n",
    "# Print the dtype for checking the transformation\n",
    "print(data[\"smoker\"].dtype)"
   ]
  },
  {
   "cell_type": "code",
   "execution_count": 8,
   "id": "1e64ddf7",
   "metadata": {},
   "outputs": [
    {
     "name": "stdout",
     "output_type": "stream",
     "text": [
      "      age  sex     bmi  children  smoker      charges  region_northeast  \\\n",
      "0      19    0  27.900         0       1  16884.92400                 0   \n",
      "1      18    1  33.770         1       0   1725.55230                 0   \n",
      "2      28    1  33.000         3       0   4449.46200                 0   \n",
      "3      33    1  22.705         0       0  21984.47061                 0   \n",
      "4      32    1  28.880         0       0   3866.85520                 0   \n",
      "...   ...  ...     ...       ...     ...          ...               ...   \n",
      "1333   50    1  30.970         3       0  10600.54830                 0   \n",
      "1334   18    0  31.920         0       0   2205.98080                 1   \n",
      "1335   18    0  36.850         0       0   1629.83350                 0   \n",
      "1336   21    0  25.800         0       0   2007.94500                 0   \n",
      "1337   61    0  29.070         0       1  29141.36030                 0   \n",
      "\n",
      "      region_northwest  region_southeast  region_southwest  \n",
      "0                    0                 0                 1  \n",
      "1                    0                 1                 0  \n",
      "2                    0                 1                 0  \n",
      "3                    1                 0                 0  \n",
      "4                    1                 0                 0  \n",
      "...                ...               ...               ...  \n",
      "1333                 1                 0                 0  \n",
      "1334                 0                 0                 0  \n",
      "1335                 0                 1                 0  \n",
      "1336                 0                 0                 1  \n",
      "1337                 1                 0                 0  \n",
      "\n",
      "[1338 rows x 10 columns]\n"
     ]
    }
   ],
   "source": [
    "#separating region to each reigon as a feature\n",
    "data = pd.get_dummies(data, columns = ['region']) \n",
    "print(data)"
   ]
  },
  {
   "cell_type": "markdown",
   "id": "36e20c42",
   "metadata": {},
   "source": [
    "## MAE Function"
   ]
  },
  {
   "cell_type": "code",
   "execution_count": 9,
   "id": "157dca61",
   "metadata": {},
   "outputs": [],
   "source": [
    "\n",
    "#Calculates the Mean Absolute Error\n",
    "#y_pred is predicted(inference) value, y is actual value\n",
    "def MAE(y_pred, y):\n",
    "    if len(y_pred.shape) > 1:\n",
    "        #squeeze deletes shape one shape dimension\n",
    "        y_pred = y_pred.squeeze()\n",
    "    mae = np.absolute(np.subtract(y_pred, y)).mean() \n",
    "    return mae"
   ]
  },
  {
   "cell_type": "markdown",
   "id": "f8282558",
   "metadata": {},
   "source": [
    "# Ready Methods\n",
    "This part has codes for calculating MAE with ready methods.\n",
    "I use results of this part to compare the results of my methods."
   ]
  },
  {
   "cell_type": "code",
   "execution_count": 10,
   "id": "f4e2c57a",
   "metadata": {},
   "outputs": [],
   "source": [
    "#All the k values for KNN \n",
    "K = [1,3,5,7,9]"
   ]
  },
  {
   "cell_type": "code",
   "execution_count": 11,
   "id": "ef22be0a",
   "metadata": {
    "scrolled": true
   },
   "outputs": [],
   "source": [
    "def knn(data,weighted,normalize):\n",
    "    \n",
    "    #choose n_splits \n",
    "    kf = KFold(n_splits=5)\n",
    "    mae_val = [] #to store maealues for different k\n",
    "    \n",
    "    print(f\"model is weighted knn {weighted}\")  \n",
    "    print(f\"normalized is {normalize}\")\n",
    "    \n",
    "    for k in K:\n",
    "        #choose model\n",
    "        if(weighted):\n",
    "            model = neighbors.KNeighborsRegressor(n_neighbors = k,weights=\"distance\")\n",
    "        else:\n",
    "            model = neighbors.KNeighborsRegressor(n_neighbors = k)\n",
    "\n",
    "        #use that for normalization\n",
    "        if(normalize):\n",
    "            data = (data-data.min())/(data.max()-data.min())\n",
    "\n",
    "        y = data[\"charges\"]\n",
    "        X = data.drop(\"charges\",axis=1)\n",
    "   \n",
    "        for train, test in kf.split(X):\n",
    "            X_train, X_test = X.iloc[train], X.iloc[test]\n",
    "            y_train, y_test = y.iloc[train], y.iloc[test]\n",
    "\n",
    "            model.fit(X_train, y_train)  #fit the model\n",
    "            pred=model.predict(X_test) #make prediction on test set\n",
    "            error = MAE(y_test,pred) #calculate mae\n",
    "            mae_val.append(error) #store mae values\n",
    "        mae_mean = np.array(mae_val).mean()\n",
    "        print(f\"k is {k} , mean mae is {mae_mean}\")\n",
    "    "
   ]
  },
  {
   "cell_type": "code",
   "execution_count": 12,
   "id": "f3080418",
   "metadata": {},
   "outputs": [
    {
     "name": "stdout",
     "output_type": "stream",
     "text": [
      "model is weighted knn False\n",
      "normalized is False\n",
      "k is 1 , mean mae is 7349.297019918624\n",
      "k is 3 , mean mae is 7346.283739437819\n",
      "k is 5 , mean mae is 7512.551345806799\n",
      "k is 7 , mean mae is 7642.497147353572\n",
      "k is 9 , mean mae is 7739.332423096279\n"
     ]
    }
   ],
   "source": [
    "#weighted, normalize\n",
    "knn(data,False,False)"
   ]
  },
  {
   "cell_type": "code",
   "execution_count": 13,
   "id": "a87d060e",
   "metadata": {},
   "outputs": [
    {
     "name": "stdout",
     "output_type": "stream",
     "text": [
      "model is weighted knn False\n",
      "normalized is True\n"
     ]
    },
    {
     "name": "stdout",
     "output_type": "stream",
     "text": [
      "k is 1 , mean mae is 0.057173841875935286\n",
      "k is 3 , mean mae is 0.05687861258364607\n",
      "k is 5 , mean mae is 0.05724838376489897\n",
      "k is 7 , mean mae is 0.05773967115232039\n",
      "k is 9 , mean mae is 0.05817798063008617\n"
     ]
    }
   ],
   "source": [
    "knn(data,False,True)"
   ]
  },
  {
   "cell_type": "code",
   "execution_count": 14,
   "id": "baffb8be",
   "metadata": {},
   "outputs": [
    {
     "name": "stdout",
     "output_type": "stream",
     "text": [
      "model is weighted knn True\n",
      "normalized is False\n"
     ]
    },
    {
     "name": "stdout",
     "output_type": "stream",
     "text": [
      "k is 1 , mean mae is 7349.297019918624\n",
      "k is 3 , mean mae is 7291.247741557056\n",
      "k is 5 , mean mae is 7409.2820840541735\n",
      "k is 7 , mean mae is 7511.367198457624\n",
      "k is 9 , mean mae is 7594.47001813742\n"
     ]
    }
   ],
   "source": [
    "knn(data,True,False)"
   ]
  },
  {
   "cell_type": "code",
   "execution_count": 15,
   "id": "3ede665b",
   "metadata": {},
   "outputs": [
    {
     "name": "stdout",
     "output_type": "stream",
     "text": [
      "model is weighted knn True\n",
      "normalized is True\n",
      "k is 1 , mean mae is 0.057173841875935286\n",
      "k is 3 , mean mae is 0.05576452998078232\n",
      "k is 5 , mean mae is 0.05549190666126338\n",
      "k is 7 , mean mae is 0.0555658417422331\n",
      "k is 9 , mean mae is 0.05572449899584332\n"
     ]
    }
   ],
   "source": [
    "knn(data,True,True)"
   ]
  },
  {
   "cell_type": "markdown",
   "id": "ff23f14e",
   "metadata": {},
   "source": [
    "## 5-fold Cross Validation"
   ]
  },
  {
   "cell_type": "code",
   "execution_count": 16,
   "id": "248d00f2",
   "metadata": {},
   "outputs": [],
   "source": [
    "#Creates the fold of given index then returns train x, train y, test x, test y of that fold as a numpy array\n",
    "def create_splits(data, fold_index):\n",
    "    fold_size = len(data) // 5\n",
    "    start = fold_index * fold_size\n",
    "    end = start + fold_size\n",
    "\n",
    "    test_fold = data.loc[start:end]\n",
    "    train_folds = [data.loc[:start - 1], data.loc[end + 1:]]\n",
    "\n",
    "    train_set = pd.concat(train_folds)\n",
    "    test_set = test_fold\n",
    "\n",
    "    train_set_x = train_set.drop(\"charges\",axis=1)\n",
    "    train_set_y = train_set[\"charges\"]\n",
    "    test_set_x = test_set.drop(\"charges\",axis=1) \n",
    "    test_set_y = test_set[\"charges\"]\n",
    "\n",
    "    return train_set_x.to_numpy(), test_set_x.to_numpy(), train_set_y.to_numpy(), test_set_y.to_numpy()\n"
   ]
  },
  {
   "cell_type": "markdown",
   "id": "5d298255",
   "metadata": {},
   "source": [
    "## KNN\n"
   ]
  },
  {
   "cell_type": "code",
   "execution_count": 17,
   "id": "00db42ad",
   "metadata": {},
   "outputs": [],
   "source": [
    "#Calculates and returns the euclidean distance between to points\n",
    "def euclidean_distance(point1, point2):\n",
    "   \n",
    "    return math.sqrt(sum((a - b) ** 2 for a, b in zip(point1, point2)))"
   ]
  },
  {
   "cell_type": "code",
   "execution_count": 18,
   "id": "ffd0c4c8",
   "metadata": {},
   "outputs": [],
   "source": [
    "#KNN class for implementing both knn and weighted knn\n",
    "class KNN:\n",
    "    #Constructor takes k of knn and weighted for the knn as a parameter\n",
    "    def __init__(self, k=3, weighted=False):\n",
    "        self.k = k\n",
    "        self.weighted = weighted\n",
    "        \n",
    "    #fits the data\n",
    "    def fit(self, X, y):\n",
    "        self.X_train = X\n",
    "        self.y_train = y\n",
    "\n",
    "    #predict target values of given X array\n",
    "    def predict(self, X):\n",
    "        predictions = np.array([])\n",
    "        for x in X:\n",
    "            predictions = np.append(predictions, self._predict(x))\n",
    "        return predictions\n",
    "    \n",
    "    #predict the target value of given x\n",
    "    def _predict(self, x):\n",
    "        distances = np.array([])\n",
    "        #calculate the distances to other points in X\n",
    "        for x_train in self.X_train:\n",
    "            distance = euclidean_distance(x, x_train)\n",
    "            distances = np.append(distances, distance)\n",
    "\n",
    "        k_indices = np.argsort(distances)[:self.k]\n",
    "\n",
    "        k_nearest_labels = np.array([])\n",
    "        #find the nearest k points\n",
    "        for i in k_indices:\n",
    "            k_nearest_labels = np.append(k_nearest_labels, self.y_train[i])\n",
    "        # if not weighted knn return the mean of the sum of k nearest point values \n",
    "        if not self.weighted:\n",
    "            return np.mean(k_nearest_labels)\n",
    "        # if weighted calculate weights using distances\n",
    "        else:\n",
    "            weights = 1 / (distances[k_indices] + 1e-6)  # Adding a small constant to avoid division by zero\n",
    "            weighted_values = k_nearest_labels * weights\n",
    "            return np.sum(weighted_values) / np.sum(weights)"
   ]
  },
  {
   "cell_type": "markdown",
   "id": "8c0024b1",
   "metadata": {},
   "source": [
    "## Running the KNN"
   ]
  },
  {
   "cell_type": "code",
   "execution_count": 19,
   "id": "fd54bc09",
   "metadata": {},
   "outputs": [],
   "source": [
    "# takes data, k of knn, weighted true or false, normalize true or false\n",
    "def knn(data,_k,_weighted,_normalize):\n",
    "    #create the model\n",
    "    model = KNN(k=_k, weighted=_weighted)\n",
    "    \n",
    "    print(f\"k is {_k}, weighted is {_weighted}, normalized is {_normalize}\")\n",
    "    #if normalize is true use min max normalization on data\n",
    "    if(_normalize):\n",
    "        data = (data-data.min())/(data.max()-data.min())\n",
    "    mae_val = [] #to store maealues for different k\n",
    "    \n",
    "    for i in range(5):\n",
    "        #for each fold\n",
    "        x_train, x_test, y_train, y_test = create_splits(data,i)\n",
    "\n",
    "        model.fit(x_train, y_train)  #fit the model\n",
    "        pred=model.predict(x_test) #make prediction on test set\n",
    "        error = MAE(y_test,pred) #calculate mae\n",
    "        mae_val.append(error) #store mae values\n",
    "        \n",
    "    #Calculating mean value of sum of each folds mae    \n",
    "    mae_mean = np.array(mae_val).mean()\n",
    "    print(f\"k is {model.k}, mean mae is {mae_mean}\")\n",
    "        \n",
    "    "
   ]
  },
  {
   "cell_type": "code",
   "execution_count": 20,
   "id": "ab8b6b8e",
   "metadata": {},
   "outputs": [
    {
     "name": "stdout",
     "output_type": "stream",
     "text": [
      "k is 1, weighted is False, normalized is False\n"
     ]
    },
    {
     "name": "stdout",
     "output_type": "stream",
     "text": [
      "k is 1, mean mae is 7416.003659417911\n",
      "k is 1, weighted is False, normalized is True\n",
      "k is 1, mean mae is 0.05675421611548097\n",
      "k is 1, weighted is True, normalized is False\n",
      "k is 1, mean mae is 7416.003659417911\n",
      "k is 1, weighted is True, normalized is True\n",
      "k is 1, mean mae is 0.05675421611548096\n",
      "\n",
      "k is 3, weighted is False, normalized is False\n",
      "k is 3, mean mae is 7375.982229020398\n",
      "k is 3, weighted is False, normalized is True\n",
      "k is 3, mean mae is 0.056393445061037516\n",
      "k is 3, weighted is True, normalized is False\n",
      "k is 3, mean mae is 7263.249088005623\n",
      "k is 3, weighted is True, normalized is True\n",
      "k is 3, mean mae is 0.054223095421717174\n",
      "\n",
      "k is 5, weighted is False, normalized is False\n",
      "k is 5, mean mae is 7853.88830949612\n",
      "k is 5, weighted is False, normalized is True\n",
      "k is 5, mean mae is 0.05768014183123209\n",
      "k is 5, weighted is True, normalized is False\n",
      "k is 5, mean mae is 7654.10003434004\n",
      "k is 5, weighted is True, normalized is True\n",
      "k is 5, mean mae is 0.0547163295637893\n",
      "\n",
      "k is 7, weighted is False, normalized is False\n",
      "k is 7, mean mae is 8040.862302602451\n",
      "k is 7, weighted is False, normalized is True\n",
      "k is 7, mean mae is 0.05905845947473337\n",
      "k is 7, weighted is True, normalized is False\n",
      "k is 7, mean mae is 7828.146017646664\n",
      "k is 7, weighted is True, normalized is True\n",
      "k is 7, mean mae is 0.05567050995344287\n",
      "\n",
      "k is 9, weighted is False, normalized is False\n",
      "k is 9, mean mae is 8140.105924290961\n",
      "k is 9, weighted is False, normalized is True\n",
      "k is 9, mean mae is 0.05982044937679911\n",
      "k is 9, weighted is True, normalized is False\n",
      "k is 9, mean mae is 7941.339464524384\n",
      "k is 9, weighted is True, normalized is True\n",
      "k is 9, mean mae is 0.05623662779165432\n",
      "\n"
     ]
    }
   ],
   "source": [
    "K = [1,3,5,7,9]\n",
    "for i in K:\n",
    "    knn(data,i,False,False)\n",
    "    knn(data,i,False,True)\n",
    "    knn(data,i,True,False)\n",
    "    knn(data,i,True,True)\n",
    "    print(\"\")\n"
   ]
  },
  {
   "cell_type": "markdown",
   "id": "d67cdbe5",
   "metadata": {},
   "source": [
    "# Error Analysis for Regression"
   ]
  },
  {
   "cell_type": "markdown",
   "id": "c82767f6",
   "metadata": {},
   "source": [
    "## Overview"
   ]
  },
  {
   "cell_type": "markdown",
   "id": "e9ae77e1",
   "metadata": {},
   "source": [
    "In this part of the assignment, the goal is to implement a nearest neighbor algorithm for estimating medical insurance costs. The dataset used for this task contains 1338 samples with continuous medical cost values. The features include age, sex, BMI, number of children, smoking status, and region. The implemented algorithm is extended to include a weighted k-NN approach."
   ]
  },
  {
   "cell_type": "markdown",
   "id": "3831ac98",
   "metadata": {},
   "source": [
    "## Implementation Details"
   ]
  },
  {
   "cell_type": "markdown",
   "id": "d1c817e9",
   "metadata": {},
   "source": [
    "### 1. Data Loading and Preprocessing"
   ]
  },
  {
   "cell_type": "markdown",
   "id": "09731276",
   "metadata": {},
   "source": [
    "The dataset was downloaded from the provided link and loaded into a Pandas DataFrame.  \n",
    "  \n",
    "The info() method was utilized to inspect null values and the types of features in the dataset.  \n",
    "  \n",
    "Object type features, such as 'sex' and 'smoker', were encoded using the LabelEncoder from scikit-learn to int.  \n",
    "  \n",
    "The 'region' feature was transformed using one-hot encoding, creating individual binary features for each region.  "
   ]
  },
  {
   "cell_type": "markdown",
   "id": "0626e5f7",
   "metadata": {},
   "source": [
    "### 2. MAE Function"
   ]
  },
  {
   "cell_type": "markdown",
   "id": "76b33456",
   "metadata": {},
   "source": [
    "The Mean Absolute Error (MAE) is a crucial metric for evaluating the performance of the regression model. It quantifies the average absolute difference between the predicted and actual values.  \n",
    "  \n",
    "This function takes the predicted values (y_pred) and the actual values (y) as inputs and computes the mean absolute difference between them. It is a reliable measure of how well the model is performing in estimating medical insurance costs.  \n",
    "  \n",
    "The MAE values will be utilized to assess and compare the performance of different k-NN and weighted k-NN models."
   ]
  },
  {
   "cell_type": "markdown",
   "id": "bfc9059c",
   "metadata": {},
   "source": [
    "### 3. 5-fold Cross Validation"
   ]
  },
  {
   "cell_type": "markdown",
   "id": "ab9e45c1",
   "metadata": {},
   "source": [
    "A 5-fold cross-validation method was applied to measure the performance of the model.  \n",
    "This method creates the fold of given index then returns train x, train y, test x, test y of that fold as a numpy array.  "
   ]
  },
  {
   "cell_type": "markdown",
   "id": "6e811b51",
   "metadata": {},
   "source": [
    "### 4. KNN "
   ]
  },
  {
   "cell_type": "markdown",
   "id": "e6978d07",
   "metadata": {},
   "source": [
    "#### k-NN Algorithm"
   ]
  },
  {
   "cell_type": "markdown",
   "id": "cded2eb6",
   "metadata": {},
   "source": [
    "The k-NN algorithm for regression was implemented using Euclidean distance as the distance metric. "
   ]
  },
  {
   "cell_type": "markdown",
   "id": "e8475715",
   "metadata": {},
   "source": [
    "#### Weighted k-NN Algorithm"
   ]
  },
  {
   "cell_type": "markdown",
   "id": "60210961",
   "metadata": {},
   "source": [
    "An extension of the k-NN algorithm, the weighted k-NN algorithm, was implemented. This approach assigns different weights to neighbors based on their distance, giving more influence to closer neighbors."
   ]
  },
  {
   "cell_type": "markdown",
   "id": "8c0695dd",
   "metadata": {},
   "source": [
    "### 5. K-NN Algorithm Implementation"
   ]
  },
  {
   "cell_type": "markdown",
   "id": "81f146a1",
   "metadata": {},
   "source": [
    "The knn function implements the k-NN algorithm for medical insurance cost estimation. It takes the dataset (data), the number of neighbors (_k), a boolean flag for weighted k-NN (_weighted), and a boolean flag for feature normalization (_normalize) as input."
   ]
  },
  {
   "cell_type": "markdown",
   "id": "1a11e3b5",
   "metadata": {},
   "source": [
    "Steps:  \n",
    "1.Model Initialization:  \n",
    "A k-NN model is created using the provided parameters.  \n",
    "  \n",
    "2.Data Normalization:  \n",
    "If _normalize is set to True, min-max normalization is applied to the dataset.  \n",
    "  \n",
    "3.5-Fold Cross-Validation:  \n",
    "The model is trained and evaluated using 5-fold cross-validation.  \n",
    "Mean Absolute Error (MAE) values are calculated for each fold.  \n",
    "  \n",
    "4.Performance Analysis:  \n",
    "The mean MAE value across all folds is computed.  \n",
    "Results, including the values of k, whether the algorithm is weighted, and   whether normalization is applied, are printed for analysis.  "
   ]
  },
  {
   "cell_type": "markdown",
   "id": "bdf6f92f",
   "metadata": {},
   "source": [
    "## Results"
   ]
  },
  {
   "cell_type": "code",
   "execution_count": 21,
   "id": "9556854d",
   "metadata": {},
   "outputs": [
    {
     "data": {
      "text/html": [
       "<div>\n",
       "<style scoped>\n",
       "    .dataframe tbody tr th:only-of-type {\n",
       "        vertical-align: middle;\n",
       "    }\n",
       "\n",
       "    .dataframe tbody tr th {\n",
       "        vertical-align: top;\n",
       "    }\n",
       "\n",
       "    .dataframe thead th {\n",
       "        text-align: right;\n",
       "    }\n",
       "</style>\n",
       "<table border=\"1\" class=\"dataframe\">\n",
       "  <thead>\n",
       "    <tr style=\"text-align: right;\">\n",
       "      <th></th>\n",
       "      <th>k values of knn</th>\n",
       "      <th>k=1</th>\n",
       "      <th>k=3</th>\n",
       "      <th>k=5</th>\n",
       "      <th>k=7</th>\n",
       "      <th>k=9</th>\n",
       "    </tr>\n",
       "  </thead>\n",
       "  <tbody>\n",
       "    <tr>\n",
       "      <th>0</th>\n",
       "      <td>knn ready method</td>\n",
       "      <td>7349.297010</td>\n",
       "      <td>7346.28373</td>\n",
       "      <td>7512.55134</td>\n",
       "      <td>7642.49714</td>\n",
       "      <td>7739.332420</td>\n",
       "    </tr>\n",
       "    <tr>\n",
       "      <th>1</th>\n",
       "      <td>knn my implementation</td>\n",
       "      <td>7416.003650</td>\n",
       "      <td>7375.98222</td>\n",
       "      <td>7853.88830</td>\n",
       "      <td>8040.86230</td>\n",
       "      <td>8140.105924</td>\n",
       "    </tr>\n",
       "    <tr>\n",
       "      <th>2</th>\n",
       "      <td>knn ready method normalized</td>\n",
       "      <td>0.057170</td>\n",
       "      <td>0.05687</td>\n",
       "      <td>0.05724</td>\n",
       "      <td>0.05773</td>\n",
       "      <td>0.058170</td>\n",
       "    </tr>\n",
       "    <tr>\n",
       "      <th>3</th>\n",
       "      <td>knn my implementation normalized</td>\n",
       "      <td>0.056754</td>\n",
       "      <td>0.05639</td>\n",
       "      <td>0.05768</td>\n",
       "      <td>0.05905</td>\n",
       "      <td>0.059820</td>\n",
       "    </tr>\n",
       "    <tr>\n",
       "      <th>4</th>\n",
       "      <td>weighted knn ready method</td>\n",
       "      <td>7349.297010</td>\n",
       "      <td>7291.24774</td>\n",
       "      <td>7409.28200</td>\n",
       "      <td>7511.36719</td>\n",
       "      <td>7594.470010</td>\n",
       "    </tr>\n",
       "    <tr>\n",
       "      <th>5</th>\n",
       "      <td>weighted knn my implementation</td>\n",
       "      <td>7416.003650</td>\n",
       "      <td>7263.24908</td>\n",
       "      <td>7654.10003</td>\n",
       "      <td>7828.14601</td>\n",
       "      <td>7941.339460</td>\n",
       "    </tr>\n",
       "    <tr>\n",
       "      <th>6</th>\n",
       "      <td>weighted knn ready method normalized</td>\n",
       "      <td>0.057170</td>\n",
       "      <td>0.05576</td>\n",
       "      <td>0.05549</td>\n",
       "      <td>0.05556</td>\n",
       "      <td>0.055720</td>\n",
       "    </tr>\n",
       "    <tr>\n",
       "      <th>7</th>\n",
       "      <td>weighted knn my implementation normalized</td>\n",
       "      <td>0.056754</td>\n",
       "      <td>0.05422</td>\n",
       "      <td>0.05471</td>\n",
       "      <td>0.05567</td>\n",
       "      <td>0.056236</td>\n",
       "    </tr>\n",
       "  </tbody>\n",
       "</table>\n",
       "</div>"
      ],
      "text/plain": [
       "                             k values of knn          k=1         k=3  \\\n",
       "0                           knn ready method  7349.297010  7346.28373   \n",
       "1                      knn my implementation  7416.003650  7375.98222   \n",
       "2                knn ready method normalized     0.057170     0.05687   \n",
       "3           knn my implementation normalized     0.056754     0.05639   \n",
       "4                  weighted knn ready method  7349.297010  7291.24774   \n",
       "5             weighted knn my implementation  7416.003650  7263.24908   \n",
       "6       weighted knn ready method normalized     0.057170     0.05576   \n",
       "7  weighted knn my implementation normalized     0.056754     0.05422   \n",
       "\n",
       "          k=5         k=7          k=9  \n",
       "0  7512.55134  7642.49714  7739.332420  \n",
       "1  7853.88830  8040.86230  8140.105924  \n",
       "2     0.05724     0.05773     0.058170  \n",
       "3     0.05768     0.05905     0.059820  \n",
       "4  7409.28200  7511.36719  7594.470010  \n",
       "5  7654.10003  7828.14601  7941.339460  \n",
       "6     0.05549     0.05556     0.055720  \n",
       "7     0.05471     0.05567     0.056236  "
      ]
     },
     "metadata": {},
     "output_type": "display_data"
    }
   ],
   "source": [
    "#Some results that I have saved before\n",
    "results = pd.read_excel('results_part2.xlsx')\n",
    "display(results)"
   ]
  },
  {
   "cell_type": "markdown",
   "id": "5d35a22f",
   "metadata": {},
   "source": [
    "As seen in the results,  \n",
    "  \n",
    "In both unnormalized and normalized results, the ready method demonstrates slightly better performance.  \n",
    "Normalized results are significantly less than unnormalized data mae value. That suggests normalization of the data is a must for better results.  \n",
    "Lesser the mae means better the accuracy of the model.  \n",
    "  \n",
    "For knn ready method best k value is 3  \n",
    "For knn my implementation best k value is 3  \n",
    "For knn ready method normalized best k value is 3  \n",
    "For knn my implementation normalized best k value is 3  \n",
    "For weighted knn ready method best k value is 3  \n",
    "For weighted knn my implementation best k value is 3  \n",
    "For weighted knn ready method normalized best k value is 5  \n",
    "For weighted knn my implementation normalized best k value is 3  \n",
    "On average best k value for this data is 3  \n",
    "  \n",
    "Lowest error has observed for weighted knn in my implementation with normalized data for k=3 , with the mae error 0.05422.    \n",
    "\n",
    "\n"
   ]
  },
  {
   "cell_type": "markdown",
   "id": "56b95aaf",
   "metadata": {},
   "source": []
  }
 ],
 "metadata": {
  "kernelspec": {
   "display_name": "Python 3 (ipykernel)",
   "language": "python",
   "name": "python3"
  },
  "language_info": {
   "codemirror_mode": {
    "name": "ipython",
    "version": 3
   },
   "file_extension": ".py",
   "mimetype": "text/x-python",
   "name": "python",
   "nbconvert_exporter": "python",
   "pygments_lexer": "ipython3",
   "version": "3.9.18"
  }
 },
 "nbformat": 4,
 "nbformat_minor": 5
}
