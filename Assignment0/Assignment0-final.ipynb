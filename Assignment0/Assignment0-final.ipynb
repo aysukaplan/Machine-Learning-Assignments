{
 "cells": [
  {
   "cell_type": "markdown",
   "id": "dd9fc512",
   "metadata": {},
   "source": [
    "\n",
    "# BBM409 Assignment_0\n",
    "\n",
    "\n"
   ]
  },
  {
   "cell_type": "markdown",
   "id": "ca3f2d98",
   "metadata": {},
   "source": [
    "### Import necessary libraries"
   ]
  },
  {
   "cell_type": "code",
   "execution_count": null,
   "id": "f19eba6e",
   "metadata": {},
   "outputs": [],
   "source": [
    "import pandas as pd\n",
    "import numpy as np\n",
    "import plotly.express as ex\n",
    "from sklearn.preprocessing import LabelEncoder\n",
    "from sklearn.preprocessing import StandardScaler\n",
    "from imblearn.over_sampling import SMOTE\n",
    "from sklearn.model_selection import train_test_split\n",
    "from sklearn.neighbors import KNeighborsClassifier\n",
    "from sklearn.naive_bayes import GaussianNB\n",
    "from sklearn.metrics import classification_report\n",
    "from yellowbrick.classifier import ConfusionMatrix\n",
    "from sklearn import svm\n",
    "from sklearn.ensemble import RandomForestClassifier\n",
    "import seaborn as sb \n",
    "import matplotlib.pyplot as plt\n",
    "from imblearn.over_sampling import RandomOverSample\n",
    "from sklearn.model_selection import KFold\n",
    "from sklearn.svm import LinearSVC, SVC\n",
    "from sklearn.tree import DecisionTreeClassifier\n",
    "from sklearn.neural_network import MLPClassifier\n",
    "from sklearn.metrics import confusion_matrix\n",
    "from sklearn.metrics import accuracy_score\n",
    "from sklearn.model_selection import StratifiedKFold as skf\n",
    "from sklearn.model_selection import cross_val_score\n",
    "from lightgbm import LGBMClassifier"
   ]
  },
  {
   "cell_type": "markdown",
   "id": "421c5523",
   "metadata": {},
   "source": [
    "### Upload Dataset"
   ]
  },
  {
   "cell_type": "code",
   "execution_count": 1,
   "id": "027c5377",
   "metadata": {},
   "outputs": [
    {
     "ename": "NameError",
     "evalue": "name 'pd' is not defined",
     "output_type": "error",
     "traceback": [
      "\u001b[1;31m---------------------------------------------------------------------------\u001b[0m",
      "\u001b[1;31mNameError\u001b[0m                                 Traceback (most recent call last)",
      "\u001b[1;32m~\\AppData\\Local\\Temp\\ipykernel_12184\\1098184138.py\u001b[0m in \u001b[0;36m<module>\u001b[1;34m\u001b[0m\n\u001b[1;32m----> 1\u001b[1;33m \u001b[0mstar_data\u001b[0m \u001b[1;33m=\u001b[0m \u001b[0mpd\u001b[0m\u001b[1;33m.\u001b[0m\u001b[0mread_csv\u001b[0m\u001b[1;33m(\u001b[0m\u001b[1;34m'star_classification.csv'\u001b[0m\u001b[1;33m)\u001b[0m\u001b[1;33m\u001b[0m\u001b[1;33m\u001b[0m\u001b[0m\n\u001b[0m",
      "\u001b[1;31mNameError\u001b[0m: name 'pd' is not defined"
     ]
    }
   ],
   "source": [
    "star = pd.read_csv('star_classification.csv')"
   ]
  },
  {
   "cell_type": "markdown",
   "id": "d13e2728",
   "metadata": {},
   "source": [
    "### Exploratory data analysis"
   ]
  },
  {
   "cell_type": "code",
   "execution_count": null,
   "id": "75ea1919",
   "metadata": {},
   "outputs": [],
   "source": [
    "rows,columns = star.shape\n",
    "print(f\"Number of rows/examples: {rows}\")\n",
    "print(f\"Number of columns/features: {columns}\")"
   ]
  },
  {
   "cell_type": "code",
   "execution_count": null,
   "id": "f665ed1d",
   "metadata": {},
   "outputs": [],
   "source": [
    "star.head()"
   ]
  },
  {
   "cell_type": "code",
   "execution_count": null,
   "id": "afce2000",
   "metadata": {},
   "outputs": [],
   "source": [
    "star.tail()"
   ]
  },
  {
   "cell_type": "code",
   "execution_count": null,
   "id": "feb4fc8a",
   "metadata": {},
   "outputs": [],
   "source": [
    "star.info()"
   ]
  },
  {
   "cell_type": "code",
   "execution_count": null,
   "id": "4b2d0153",
   "metadata": {},
   "outputs": [],
   "source": [
    "#Checking if there is a null value\n",
    "star.isnull().sum()"
   ]
  },
  {
   "cell_type": "code",
   "execution_count": null,
   "id": "9de609cd",
   "metadata": {},
   "outputs": [],
   "source": [
    "a, b, c = star[\"class\"].value_counts() / len(star)\n",
    "print(f\"Total percentage of Galaxies : {round(a*100, 1)}%\")\n",
    "print(f\"Total percentage of Stars : {round(b*100, 1)}%\")\n",
    "print(f\"Total percentage of QSO : {round(c*100, 1)}%\")"
   ]
  },
  {
   "cell_type": "code",
   "execution_count": null,
   "id": "fdd95a9d",
   "metadata": {},
   "outputs": [],
   "source": [
    "sb.countplot(x = star[\"class\"], palette=\"Set3\")"
   ]
  },
  {
   "cell_type": "code",
   "execution_count": null,
   "id": "3bfa5fcf",
   "metadata": {},
   "outputs": [],
   "source": [
    "ex.pie(star,names='class',title='Percentages of Different Classes',hole=0.33)"
   ]
  },
  {
   "cell_type": "code",
   "execution_count": null,
   "id": "709b400a",
   "metadata": {},
   "outputs": [],
   "source": [
    "star.describe().T"
   ]
  },
  {
   "cell_type": "code",
   "execution_count": null,
   "id": "8d0d890a",
   "metadata": {},
   "outputs": [],
   "source": [
    "star.hist(bins = 10 , figsize= (14,14))\n",
    "plt.show()"
   ]
  },
  {
   "cell_type": "markdown",
   "id": "dadd357c",
   "metadata": {},
   "source": [
    "### Preprocessing"
   ]
  },
  {
   "cell_type": "code",
   "execution_count": null,
   "id": "776c58b2",
   "metadata": {},
   "outputs": [],
   "source": [
    "#Checking the unique values\n",
    "unique=star.nunique()\n",
    "print(unique)"
   ]
  },
  {
   "cell_type": "code",
   "execution_count": null,
   "id": "7a166c8a",
   "metadata": {},
   "outputs": [],
   "source": [
    "star = star.drop(['run_ID','rerun_ID','cam_col','field_ID','spec_obj_ID','fiber_ID','obj_ID'],axis=1, inplace = True)\n"
   ]
  },
  {
   "cell_type": "code",
   "execution_count": null,
   "id": "54b3006d",
   "metadata": {},
   "outputs": [],
   "source": [
    "le = LabelEncoder()\n",
    "star_data[\"class\"] = le.fit_transform(star_data[\"class\"])\n",
    "star_data[\"class\"] = star_data[\"class\"].astype(int)\n",
    "\n",
    "x = star_data.drop(['class'], axis=1)\n",
    "y = star_data.loc[:, 'class'].values\n",
    "\n",
    "sm = SMOTE(random_state=42)\n",
    "x, y = sm.fit_resample(x, y)\n",
    "\n",
    "#Making a standardize dataset\n",
    "scaler = StandardScaler()\n",
    "scaler.fit(x)\n",
    "x = scaler.transform(x)"
   ]
  },
  {
   "cell_type": "code",
   "execution_count": null,
   "id": "8c3f5abc",
   "metadata": {},
   "outputs": [],
   "source": [
    "X = star.drop('class',axis=1)\n",
    "y = star['class']\n",
    "\n",
    "oversampler = SMOTE(random_state=1)\n",
    "\n",
    "#Making a standardize dataset\n",
    "sc = StandardScaler()\n",
    "sc.fit(X_train)\n",
    "\n",
    "X_train = pd.DataFrame(sc.transform(X_train), columns = X_train.columns, index = X_train.index)\n",
    "X_test = pd.DataFrame(sc.transform(X_test), columns = X_test.columns, index = X_test.index)\n",
    "\n",
    "#Training the dataset\n",
    "X_train_smote, y_train_smote = oversampler.fit_resample(X_train, y_train)"
   ]
  },
  {
   "cell_type": "markdown",
   "id": "40760302",
   "metadata": {},
   "source": [
    "### Split the dataset "
   ]
  },
  {
   "cell_type": "code",
   "execution_count": null,
   "id": "ca7870d8",
   "metadata": {},
   "outputs": [],
   "source": [
    "# 80-20 split\n",
    "x_train, x_test, y_train, y_test = train_test_split(x, y, test_size=0.2, random_state=42)"
   ]
  },
  {
   "cell_type": "code",
   "execution_count": null,
   "id": "4932c042",
   "metadata": {},
   "outputs": [],
   "source": [
    "# 5-fold cross validation\n",
    "skfold = KFold(n_splits=5,random_state=None, shuffle=False)\n",
    "skfold.get_n_splits(x)"
   ]
  },
  {
   "cell_type": "markdown",
   "id": "2d5902cb",
   "metadata": {},
   "source": [
    "## Classification Methods"
   ]
  },
  {
   "cell_type": "markdown",
   "id": "26937a6b",
   "metadata": {},
   "source": [
    "### kNN"
   ]
  },
  {
   "cell_type": "code",
   "execution_count": null,
   "id": "66a42532",
   "metadata": {},
   "outputs": [],
   "source": [
    "knn1 = KNeighborsClassifier(algorithm='auto', n_neighbors=5)\n",
    "knn1.fit(x_train, y_train)\n",
    "y_pred1 = knn1.predict(x_test)"
   ]
  },
  {
   "cell_type": "code",
   "execution_count": null,
   "id": "69ff61a8",
   "metadata": {},
   "outputs": [],
   "source": [
    "#Checking the accuracy of KNN model\n",
    "knn_score = knn1.score(x_test, y_test)\n",
    "print(\"Model Name: KNN \"+ \"\\n\" +\"Accuracy: \" + \" {:.2f}%\".format(knn_score * 100))"
   ]
  },
  {
   "cell_type": "code",
   "execution_count": null,
   "id": "4e4fc32b",
   "metadata": {},
   "outputs": [],
   "source": [
    "# Display classification report including precision, recall, f1-score\n",
    "print(classification_report(y_test, y_pred1))"
   ]
  },
  {
   "cell_type": "code",
   "execution_count": null,
   "id": "0cbdec79",
   "metadata": {},
   "outputs": [],
   "source": [
    "# To show confusion matrix\n",
    "knn_cm = ConfusionMatrix(knn1, classes=['GALAXY', 'STAR', 'QSO'])\n",
    "knn_cm.fit(x_train, y_train)\n",
    "knn_cm.score(x_test, y_test)\n",
    "knn_cm.show()"
   ]
  },
  {
   "cell_type": "markdown",
   "id": "8ae5ccc3",
   "metadata": {},
   "source": [
    "### Weighted kNN"
   ]
  },
  {
   "cell_type": "code",
   "execution_count": null,
   "id": "88044c19",
   "metadata": {},
   "outputs": [],
   "source": [
    "knn2 = KNeighborsClassifier(algorithm='auto', n_neighbors=5, weights='distance')\n",
    "knn2.fit(x_train, y_train)\n",
    "y_pred2 = knn2.predict(x_test)"
   ]
  },
  {
   "cell_type": "code",
   "execution_count": null,
   "id": "4d570e5d",
   "metadata": {},
   "outputs": [],
   "source": [
    "#Checking the accuracy of KNN model\n",
    "knn_score_weighted = knn2.score(x_test, y_test)\n",
    "print(\"Model Name: Weighted KNN \"+ \"\\n\" +\"Accuracy: \" + \" {:.2f}%\".format(knn_score_weighted * 100))"
   ]
  },
  {
   "cell_type": "code",
   "execution_count": null,
   "id": "ef4b3b44",
   "metadata": {},
   "outputs": [],
   "source": [
    "# Display classification report including precision, recall, f1-score\n",
    "print(classification_report(y_test, y_pred2))"
   ]
  },
  {
   "cell_type": "code",
   "execution_count": null,
   "id": "a954316a",
   "metadata": {},
   "outputs": [],
   "source": [
    "# To show confusion matrix\n",
    "knn_cm2 = ConfusionMatrix(knn2, classes=['GALAXY', 'STAR', 'QSO'])\n",
    "knn_cm2.fit(x_train, y_train)\n",
    "knn_cm2.score(x_test, y_test)\n",
    "knn_cm2.show()"
   ]
  },
  {
   "cell_type": "markdown",
   "id": "515782f6",
   "metadata": {},
   "source": [
    "### Naive Bayes"
   ]
  },
  {
   "cell_type": "code",
   "execution_count": null,
   "id": "acc7f670",
   "metadata": {},
   "outputs": [],
   "source": [
    "nb = GaussianNB()\n",
    "nb.fit(x_train, y_train)\n",
    "y_pred3 = nb.predict(x_test)"
   ]
  },
  {
   "cell_type": "code",
   "execution_count": null,
   "id": "a8382583",
   "metadata": {},
   "outputs": [],
   "source": [
    "#Checking the accuracy of Naive Bayes model\n",
    "nb_score = nb.score(x_test, y_test)\n",
    "print(\"Model Name: Naive Bayes \"+ \"\\n\" +\"Accuracy: \" + \" {:.2f}%\".format(nb_score * 100))"
   ]
  },
  {
   "cell_type": "code",
   "execution_count": null,
   "id": "f449ee43",
   "metadata": {},
   "outputs": [],
   "source": [
    "# Display classification report including precision, recall, f1-score\n",
    "print(classification_report(y_test, y_pred3))"
   ]
  },
  {
   "cell_type": "code",
   "execution_count": null,
   "id": "32e35e82",
   "metadata": {},
   "outputs": [],
   "source": [
    "# To show confusion matrix\n",
    "nb_cm = ConfusionMatrix(nb, classes=['GALAXY', 'STAR', 'QSO'])\n",
    "nb_cm.fit(x_train, y_train)\n",
    "nb_cm.score(x_test, y_test)\n",
    "nb_cm.show()"
   ]
  },
  {
   "cell_type": "markdown",
   "id": "814df219",
   "metadata": {},
   "source": [
    "### Random Forest"
   ]
  },
  {
   "cell_type": "code",
   "execution_count": null,
   "id": "cd8f5617",
   "metadata": {},
   "outputs": [],
   "source": [
    "r_forest = RandomForestClassifier()\n",
    "r_forest.fit(x_train, y_train)\n",
    "y_pred4 = r_forest.predict(x_test)"
   ]
  },
  {
   "cell_type": "code",
   "execution_count": null,
   "id": "0b0503bd",
   "metadata": {},
   "outputs": [],
   "source": [
    "#Checking the accuracy of Random Forest model\n",
    "rf_score = r_forest.score(x_test, y_test)\n",
    "print(\"Model Name: Random Forest \"+ \"\\n\" +\"Accuracy: \" + \" {:.2f}%\".format(rf_score* 100))"
   ]
  },
  {
   "cell_type": "code",
   "execution_count": null,
   "id": "e2819eed",
   "metadata": {},
   "outputs": [],
   "source": [
    "# Display classification report including precision, recall, f1-score\n",
    "print(classification_report(y_test, y_pred4))"
   ]
  },
  {
   "cell_type": "code",
   "execution_count": null,
   "id": "c2e19ed7",
   "metadata": {},
   "outputs": [],
   "source": [
    "# To show confusion matrix\n",
    "rs_cm = ConfusionMatrix(r_forest, classes=['GALAXY', 'STAR', 'QSO'])\n",
    "rs_cm.fit(x_train, y_train)\n",
    "rs_cm.score(x_test, y_test)\n",
    "rs_cm.show()"
   ]
  },
  {
   "cell_type": "markdown",
   "id": "8355def8",
   "metadata": {},
   "source": [
    "### Support Vector Machine(SVM)"
   ]
  },
  {
   "cell_type": "code",
   "execution_count": null,
   "id": "497426f0",
   "metadata": {},
   "outputs": [],
   "source": [
    "svm = svm.SVC(kernel='linear', probability=True, class_weight='balanced',random_state=42)\n",
    "svm.fit(x_train, y_train)\n",
    "y_pred5 = svm.predict(x_test)"
   ]
  },
  {
   "cell_type": "code",
   "execution_count": null,
   "id": "7dd33928",
   "metadata": {},
   "outputs": [],
   "source": [
    "#Checking the accuracy of SVM model\n",
    "svm_score = svm.score(x_test, y_test)\n",
    "print(\"Model Name: Support Vector Machine \"+ \"\\n\" +\"Accuracy: \" + \" {:.2f}%\".format(svm_score * 100))"
   ]
  },
  {
   "cell_type": "code",
   "execution_count": null,
   "id": "0ac2f9e4",
   "metadata": {},
   "outputs": [],
   "source": [
    "# Display classification report including precision, recall, f1-score\n",
    "print(classification_report(y_test, y_pred5))"
   ]
  },
  {
   "cell_type": "code",
   "execution_count": null,
   "id": "d0116dd9",
   "metadata": {},
   "outputs": [],
   "source": [
    "# To show confusion matrix\n",
    "svm_cm = ConfusionMatrix(svm, classes=['GALAXY', 'STAR', 'QSO'])\n",
    "svm_cm.fit(x_train, y_train)\n",
    "svm_cm.score(x_test, y_test)\n",
    "svm_cm.show()"
   ]
  },
  {
   "cell_type": "markdown",
   "id": "3150dbe2",
   "metadata": {},
   "source": [
    "### Comparison of the model accuracies"
   ]
  },
  {
   "cell_type": "code",
   "execution_count": null,
   "id": "32036223",
   "metadata": {},
   "outputs": [],
   "source": [
    "print(\"Model Name: KNN \"+ \"\\n\" +\"Accuracy: \" + \" {:.2f}%\".format(knn_score * 100))\n",
    "print(\"Model Name: Weighted KNN \"+ \"\\n\" +\"Accuracy: \" + \" {:.2f}%\".format(knn_score_weighted * 100))\n",
    "print(\"Model Name: Naive Bayes \"+ \"\\n\" +\"Accuracy: \" + \" {:.2f}%\".format(nb_score * 100))\n",
    "print(\"Model Name: Random Forest \"+ \"\\n\" +\"Accuracy: \" + \" {:.2f}%\".format(rf_score* 100))\n",
    "print(\"Model Name: Support Vector Machine \"+ \"\\n\" +\"Accuracy: \" + \" {:.2f}%\".format(svm_score * 100))"
   ]
  }
 ],
 "metadata": {
  "kernelspec": {
   "display_name": "Python 3 (ipykernel)",
   "language": "python",
   "name": "python3"
  },
  "language_info": {
   "codemirror_mode": {
    "name": "ipython",
    "version": 3
   },
   "file_extension": ".py",
   "mimetype": "text/x-python",
   "name": "python",
   "nbconvert_exporter": "python",
   "pygments_lexer": "ipython3",
   "version": "3.9.18"
  }
 },
 "nbformat": 4,
 "nbformat_minor": 5
}
